{
 "cells": [
  {
   "cell_type": "markdown",
   "metadata": {},
   "source": [
    "# E-commerce A/B Testing"
   ]
  },
  {
   "cell_type": "markdown",
   "metadata": {},
   "source": [
    "### Introduction:\n",
    "\n",
    "- The purpose of this A/B testing project is to compare the performance of the current website landing page (old_page) with a new website landing page (new_page) in terms of conversion rate. \n",
    "- A/B testing is a statistical hypothesis testing method that can be used to determine which version of a webpage or application results in the best user experience and higher conversion rates. \n",
    "- The goal is to use A/B testing to determine whether the new webpage results in a statistically significant increase in the conversion rate compared to the old webpage."
   ]
  },
  {
   "cell_type": "markdown",
   "metadata": {},
   "source": [
    "### Problem Statement:\n",
    "- The conversion rate of the current website landing page is low, and there is a need to improve it to increase sales and revenue. \n",
    "- The company has created a new landing page and wants to know if it performs better than the old landing page in terms of conversion rate. \n",
    "- The problem statement is to identify whether the new landing page results in a statistically significant increase in the conversion rate compared to the old landing page."
   ]
  },
  {
   "cell_type": "markdown",
   "metadata": {},
   "source": [
    "### Scope:\n",
    "- The scope of this project is to design and conduct an A/B test to determine whether the new landing page results in a statistically significant increase in the conversion rate compared to the old landing page. \n",
    "- The test will be conducted on a randomly selected sample of website visitors who will be randomly assigned to either the control group, which will see the old landing page, or the treatment group, which will see the new landing page. \n",
    "- The test will run for a sufficient amount of time to collect enough data to draw statistically valid conclusions."
   ]
  },
  {
   "cell_type": "markdown",
   "metadata": {},
   "source": [
    "### Challenges:\n",
    "- One of the main challenges in this project is to ensure that the test is properly designed to avoid bias and ensure statistical validity. \n",
    "- Another challenge is to ensure that the sample size is large enough to detect statistically significant differences in the conversion rates. \n",
    "- It may also be a challenge to ensure that the test is run for a sufficient amount of time to collect enough data to draw statistically valid conclusions."
   ]
  },
  {
   "cell_type": "markdown",
   "metadata": {},
   "source": [
    "### Risks:\n",
    "- There is a risk that the test may not show a statistically significant difference between the old and new landing pages, which would mean that the company would have invested resources in creating a new landing page without seeing any benefit. \n",
    "- There is also a risk that the test may show a statistically significant difference, but the new landing page may not result in a practical improvement in conversion rates.\n",
    "- Finally, there is a risk that the test may be biased or invalid, resulting in incorrect conclusions being drawn."
   ]
  },
  {
   "cell_type": "markdown",
   "metadata": {},
   "source": [
    "# Importing Libraries\n"
   ]
  },
  {
   "cell_type": "code",
   "execution_count": 114,
   "metadata": {},
   "outputs": [],
   "source": [
    "# basics\n",
    "import numpy as np\n",
    "import pandas as pd\n",
    "\n",
    "#visualisation\n",
    "import matplotlib.pyplot as plt\n",
    "import seaborn as sns\n",
    "\n",
    "#warning\n",
    "import warnings\n",
    "warnings.filterwarnings('ignore')\n",
    "\n",
    "#setting notebook style\n",
    "sns.set_style('darkgrid')"
   ]
  },
  {
   "cell_type": "code",
   "execution_count": 115,
   "metadata": {},
   "outputs": [
    {
     "data": {
      "text/html": [
       "<div>\n",
       "<style scoped>\n",
       "    .dataframe tbody tr th:only-of-type {\n",
       "        vertical-align: middle;\n",
       "    }\n",
       "\n",
       "    .dataframe tbody tr th {\n",
       "        vertical-align: top;\n",
       "    }\n",
       "\n",
       "    .dataframe thead th {\n",
       "        text-align: right;\n",
       "    }\n",
       "</style>\n",
       "<table border=\"1\" class=\"dataframe\">\n",
       "  <thead>\n",
       "    <tr style=\"text-align: right;\">\n",
       "      <th></th>\n",
       "      <th>id</th>\n",
       "      <th>time</th>\n",
       "      <th>con_treat</th>\n",
       "      <th>page</th>\n",
       "      <th>converted</th>\n",
       "    </tr>\n",
       "  </thead>\n",
       "  <tbody>\n",
       "    <tr>\n",
       "      <th>0</th>\n",
       "      <td>851104</td>\n",
       "      <td>11:48.6</td>\n",
       "      <td>control</td>\n",
       "      <td>old_page</td>\n",
       "      <td>0</td>\n",
       "    </tr>\n",
       "    <tr>\n",
       "      <th>1</th>\n",
       "      <td>804228</td>\n",
       "      <td>01:45.2</td>\n",
       "      <td>control</td>\n",
       "      <td>old_page</td>\n",
       "      <td>0</td>\n",
       "    </tr>\n",
       "    <tr>\n",
       "      <th>2</th>\n",
       "      <td>661590</td>\n",
       "      <td>55:06.2</td>\n",
       "      <td>treatment</td>\n",
       "      <td>new_page</td>\n",
       "      <td>0</td>\n",
       "    </tr>\n",
       "    <tr>\n",
       "      <th>3</th>\n",
       "      <td>853541</td>\n",
       "      <td>28:03.1</td>\n",
       "      <td>treatment</td>\n",
       "      <td>new_page</td>\n",
       "      <td>0</td>\n",
       "    </tr>\n",
       "    <tr>\n",
       "      <th>4</th>\n",
       "      <td>864975</td>\n",
       "      <td>52:26.2</td>\n",
       "      <td>control</td>\n",
       "      <td>old_page</td>\n",
       "      <td>1</td>\n",
       "    </tr>\n",
       "  </tbody>\n",
       "</table>\n",
       "</div>"
      ],
      "text/plain": [
       "       id     time  con_treat      page  converted\n",
       "0  851104  11:48.6    control  old_page          0\n",
       "1  804228  01:45.2    control  old_page          0\n",
       "2  661590  55:06.2  treatment  new_page          0\n",
       "3  853541  28:03.1  treatment  new_page          0\n",
       "4  864975  52:26.2    control  old_page          1"
      ]
     },
     "execution_count": 115,
     "metadata": {},
     "output_type": "execute_result"
    }
   ],
   "source": [
    "experiment= pd.read_csv('ab_test.csv')\n",
    "experiment.head()"
   ]
  },
  {
   "cell_type": "code",
   "execution_count": 116,
   "metadata": {},
   "outputs": [
    {
     "data": {
      "text/html": [
       "<div>\n",
       "<style scoped>\n",
       "    .dataframe tbody tr th:only-of-type {\n",
       "        vertical-align: middle;\n",
       "    }\n",
       "\n",
       "    .dataframe tbody tr th {\n",
       "        vertical-align: top;\n",
       "    }\n",
       "\n",
       "    .dataframe thead th {\n",
       "        text-align: right;\n",
       "    }\n",
       "</style>\n",
       "<table border=\"1\" class=\"dataframe\">\n",
       "  <thead>\n",
       "    <tr style=\"text-align: right;\">\n",
       "      <th></th>\n",
       "      <th>id</th>\n",
       "      <th>country</th>\n",
       "    </tr>\n",
       "  </thead>\n",
       "  <tbody>\n",
       "    <tr>\n",
       "      <th>0</th>\n",
       "      <td>834778</td>\n",
       "      <td>UK</td>\n",
       "    </tr>\n",
       "    <tr>\n",
       "      <th>1</th>\n",
       "      <td>928468</td>\n",
       "      <td>US</td>\n",
       "    </tr>\n",
       "    <tr>\n",
       "      <th>2</th>\n",
       "      <td>822059</td>\n",
       "      <td>UK</td>\n",
       "    </tr>\n",
       "    <tr>\n",
       "      <th>3</th>\n",
       "      <td>711597</td>\n",
       "      <td>UK</td>\n",
       "    </tr>\n",
       "    <tr>\n",
       "      <th>4</th>\n",
       "      <td>710616</td>\n",
       "      <td>UK</td>\n",
       "    </tr>\n",
       "    <tr>\n",
       "      <th>...</th>\n",
       "      <td>...</td>\n",
       "      <td>...</td>\n",
       "    </tr>\n",
       "    <tr>\n",
       "      <th>290579</th>\n",
       "      <td>653118</td>\n",
       "      <td>US</td>\n",
       "    </tr>\n",
       "    <tr>\n",
       "      <th>290580</th>\n",
       "      <td>878226</td>\n",
       "      <td>UK</td>\n",
       "    </tr>\n",
       "    <tr>\n",
       "      <th>290581</th>\n",
       "      <td>799368</td>\n",
       "      <td>UK</td>\n",
       "    </tr>\n",
       "    <tr>\n",
       "      <th>290582</th>\n",
       "      <td>655535</td>\n",
       "      <td>CA</td>\n",
       "    </tr>\n",
       "    <tr>\n",
       "      <th>290583</th>\n",
       "      <td>934996</td>\n",
       "      <td>UK</td>\n",
       "    </tr>\n",
       "  </tbody>\n",
       "</table>\n",
       "<p>290584 rows × 2 columns</p>\n",
       "</div>"
      ],
      "text/plain": [
       "            id country\n",
       "0       834778      UK\n",
       "1       928468      US\n",
       "2       822059      UK\n",
       "3       711597      UK\n",
       "4       710616      UK\n",
       "...        ...     ...\n",
       "290579  653118      US\n",
       "290580  878226      UK\n",
       "290581  799368      UK\n",
       "290582  655535      CA\n",
       "290583  934996      UK\n",
       "\n",
       "[290584 rows x 2 columns]"
      ]
     },
     "execution_count": 116,
     "metadata": {},
     "output_type": "execute_result"
    }
   ],
   "source": [
    "countries=pd.read_csv('countries_ab.csv')\n",
    "countries"
   ]
  },
  {
   "cell_type": "code",
   "execution_count": 117,
   "metadata": {},
   "outputs": [
    {
     "name": "stdout",
     "output_type": "stream",
     "text": [
      "Shape of experiment dataset: (294478, 5)\n",
      "Shape of countries dataset: (290584, 2)\n"
     ]
    }
   ],
   "source": [
    "print('Shape of experiment dataset:', experiment.shape)\n",
    "print('Shape of countries dataset:', countries.shape)"
   ]
  },
  {
   "cell_type": "code",
   "execution_count": 118,
   "metadata": {},
   "outputs": [
    {
     "name": "stdout",
     "output_type": "stream",
     "text": [
      "<class 'pandas.core.frame.DataFrame'>\n",
      "RangeIndex: 294478 entries, 0 to 294477\n",
      "Data columns (total 5 columns):\n",
      " #   Column     Non-Null Count   Dtype \n",
      "---  ------     --------------   ----- \n",
      " 0   id         294478 non-null  int64 \n",
      " 1   time       294478 non-null  object\n",
      " 2   con_treat  294478 non-null  object\n",
      " 3   page       294478 non-null  object\n",
      " 4   converted  294478 non-null  int64 \n",
      "dtypes: int64(2), object(3)\n",
      "memory usage: 11.2+ MB\n",
      "None\n",
      "===========================================\n",
      "<class 'pandas.core.frame.DataFrame'>\n",
      "RangeIndex: 290584 entries, 0 to 290583\n",
      "Data columns (total 2 columns):\n",
      " #   Column   Non-Null Count   Dtype \n",
      "---  ------   --------------   ----- \n",
      " 0   id       290584 non-null  int64 \n",
      " 1   country  290584 non-null  object\n",
      "dtypes: int64(1), object(1)\n",
      "memory usage: 4.4+ MB\n",
      "None\n"
     ]
    }
   ],
   "source": [
    "print(experiment.info())\n",
    "print('===========================================')\n",
    "print(countries.info())"
   ]
  },
  {
   "cell_type": "markdown",
   "metadata": {},
   "source": [
    "experiment dataset:\n",
    "\n",
    "- It contains 294,478 rows and 5 columns.\n",
    "- There are no missing values in any of the columns, as indicated by the \"Non-Null Count\" values for each column.\n",
    "- The 'id', 'con_treat', and 'page' columns are stored as objects (strings), while the 'time' and 'converted' columns are stored as integers.\n",
    "- The memory usage of the data frame is 11.2+ MB.\n",
    "\n",
    "countries dataset:\n",
    "\n",
    "- It contains 290,584 rows and 2 columns.\n",
    "- There are no missing values in any of the columns.\n",
    "- The 'id' column is stored as an integer, while the 'country' column is stored as an object (string).\n",
    "- The memory usage of the data frame is 4.4+ MB."
   ]
  },
  {
   "cell_type": "code",
   "execution_count": 119,
   "metadata": {},
   "outputs": [
    {
     "data": {
      "text/html": [
       "<div>\n",
       "<style scoped>\n",
       "    .dataframe tbody tr th:only-of-type {\n",
       "        vertical-align: middle;\n",
       "    }\n",
       "\n",
       "    .dataframe tbody tr th {\n",
       "        vertical-align: top;\n",
       "    }\n",
       "\n",
       "    .dataframe thead th {\n",
       "        text-align: right;\n",
       "    }\n",
       "</style>\n",
       "<table border=\"1\" class=\"dataframe\">\n",
       "  <thead>\n",
       "    <tr style=\"text-align: right;\">\n",
       "      <th></th>\n",
       "      <th>id</th>\n",
       "      <th>converted</th>\n",
       "    </tr>\n",
       "  </thead>\n",
       "  <tbody>\n",
       "    <tr>\n",
       "      <th>count</th>\n",
       "      <td>294478.000000</td>\n",
       "      <td>294478.000000</td>\n",
       "    </tr>\n",
       "    <tr>\n",
       "      <th>mean</th>\n",
       "      <td>787974.124733</td>\n",
       "      <td>0.119659</td>\n",
       "    </tr>\n",
       "    <tr>\n",
       "      <th>std</th>\n",
       "      <td>91210.823776</td>\n",
       "      <td>0.324563</td>\n",
       "    </tr>\n",
       "    <tr>\n",
       "      <th>min</th>\n",
       "      <td>630000.000000</td>\n",
       "      <td>0.000000</td>\n",
       "    </tr>\n",
       "    <tr>\n",
       "      <th>25%</th>\n",
       "      <td>709032.250000</td>\n",
       "      <td>0.000000</td>\n",
       "    </tr>\n",
       "    <tr>\n",
       "      <th>50%</th>\n",
       "      <td>787933.500000</td>\n",
       "      <td>0.000000</td>\n",
       "    </tr>\n",
       "    <tr>\n",
       "      <th>75%</th>\n",
       "      <td>866911.750000</td>\n",
       "      <td>0.000000</td>\n",
       "    </tr>\n",
       "    <tr>\n",
       "      <th>max</th>\n",
       "      <td>945999.000000</td>\n",
       "      <td>1.000000</td>\n",
       "    </tr>\n",
       "  </tbody>\n",
       "</table>\n",
       "</div>"
      ],
      "text/plain": [
       "                  id      converted\n",
       "count  294478.000000  294478.000000\n",
       "mean   787974.124733       0.119659\n",
       "std     91210.823776       0.324563\n",
       "min    630000.000000       0.000000\n",
       "25%    709032.250000       0.000000\n",
       "50%    787933.500000       0.000000\n",
       "75%    866911.750000       0.000000\n",
       "max    945999.000000       1.000000"
      ]
     },
     "execution_count": 119,
     "metadata": {},
     "output_type": "execute_result"
    }
   ],
   "source": [
    "experiment.describe()"
   ]
  },
  {
   "cell_type": "markdown",
   "metadata": {},
   "source": [
    "From the mean of the converted column, we can say that around 12% users are converted"
   ]
  },
  {
   "cell_type": "code",
   "execution_count": 120,
   "metadata": {},
   "outputs": [
    {
     "name": "stdout",
     "output_type": "stream",
     "text": [
      "           time  con_treat      page\n",
      "count    294478     294478    294478\n",
      "unique    35993          2         2\n",
      "top     36:26.7  treatment  old_page\n",
      "freq         22     147276    147239\n",
      "===============================\n",
      "       country\n",
      "count   290584\n",
      "unique       3\n",
      "top         US\n",
      "freq    203619\n"
     ]
    }
   ],
   "source": [
    "print(experiment.describe(include='O'))\n",
    "print('===============================')\n",
    "print(countries.describe(include='O'))"
   ]
  },
  {
   "cell_type": "markdown",
   "metadata": {},
   "source": [
    "experiment dataser:\n",
    "\n",
    "- The 'time' column has 35,993 unique values, which could indicate that the data was collected over a period of time.\n",
    "- The 'con_treat' column has only two unique values, indicating that the experiment was a simple A/B test.\n",
    "- The 'page' column also has two unique values, indicating that there were two versions of the landing page.\n",
    "- The 'top' value of the 'con_treat' column is 'treatment', which occurred 147,276 times.\n",
    "- The 'top' value of the 'page' column is 'old_page', which occurred 147,239 times.\n",
    "\n",
    "\n",
    "countries dataset:\n",
    "\n",
    "- The 'country' column is a categorical column.\n",
    "- There are 290,584 rows in the 'country' column, indicating that there are 3,894 missing values.\n",
    "- The 'top' value of the 'country' column is 'US', which occurred 203,619 times."
   ]
  },
  {
   "cell_type": "code",
   "execution_count": 121,
   "metadata": {},
   "outputs": [
    {
     "name": "stdout",
     "output_type": "stream",
     "text": [
      "Unique values in con_treat column are:\n",
      "['control', 'treatment']\n",
      "Number of unique values: 2\n",
      "===============================\n",
      "Unique values in page column are:\n",
      "['old_page', 'new_page']\n",
      "Number of unique values: 2\n",
      "===============================\n",
      "Unique values in country column are:\n",
      "['UK', 'US', 'CA']\n",
      "Number of unique values: 3\n"
     ]
    }
   ],
   "source": [
    "# checking unique values\n",
    "\n",
    "print('Unique values in con_treat column are:')\n",
    "print(list(experiment['con_treat'].unique()))\n",
    "print('Number of unique values:', len(list(experiment['con_treat'].unique())))\n",
    "print('===============================')\n",
    "print('Unique values in page column are:')\n",
    "print(list(experiment['page'].unique()))\n",
    "print('Number of unique values:', len(list(experiment['page'].unique())))\n",
    "print('===============================')\n",
    "print('Unique values in country column are:')\n",
    "print(list(countries['country'].unique()))\n",
    "print('Number of unique values:', len(list(countries['country'].unique())))"
   ]
  },
  {
   "cell_type": "markdown",
   "metadata": {},
   "source": [
    "### Merging both dataset"
   ]
  },
  {
   "cell_type": "code",
   "execution_count": 122,
   "metadata": {},
   "outputs": [],
   "source": [
    "data= experiment.merge(countries, on='id')"
   ]
  },
  {
   "cell_type": "code",
   "execution_count": 123,
   "metadata": {},
   "outputs": [
    {
     "name": "stdout",
     "output_type": "stream",
     "text": [
      "Shape of experiment dataset: (294478, 5)\n",
      "Shape of countries dataset: (290584, 2)\n",
      "Shape of merged dataset: (294478, 6)\n"
     ]
    }
   ],
   "source": [
    "print('Shape of experiment dataset:', experiment.shape)\n",
    "print('Shape of countries dataset:', countries.shape)\n",
    "print('Shape of merged dataset:',data.shape)"
   ]
  },
  {
   "cell_type": "code",
   "execution_count": 124,
   "metadata": {},
   "outputs": [
    {
     "data": {
      "text/html": [
       "<div>\n",
       "<style scoped>\n",
       "    .dataframe tbody tr th:only-of-type {\n",
       "        vertical-align: middle;\n",
       "    }\n",
       "\n",
       "    .dataframe tbody tr th {\n",
       "        vertical-align: top;\n",
       "    }\n",
       "\n",
       "    .dataframe thead th {\n",
       "        text-align: right;\n",
       "    }\n",
       "</style>\n",
       "<table border=\"1\" class=\"dataframe\">\n",
       "  <thead>\n",
       "    <tr style=\"text-align: right;\">\n",
       "      <th></th>\n",
       "      <th>id</th>\n",
       "      <th>time</th>\n",
       "      <th>con_treat</th>\n",
       "      <th>page</th>\n",
       "      <th>converted</th>\n",
       "      <th>country</th>\n",
       "    </tr>\n",
       "  </thead>\n",
       "  <tbody>\n",
       "    <tr>\n",
       "      <th>222243</th>\n",
       "      <td>637403</td>\n",
       "      <td>17:00.9</td>\n",
       "      <td>treatment</td>\n",
       "      <td>new_page</td>\n",
       "      <td>0</td>\n",
       "      <td>US</td>\n",
       "    </tr>\n",
       "    <tr>\n",
       "      <th>52786</th>\n",
       "      <td>699027</td>\n",
       "      <td>44:31.6</td>\n",
       "      <td>control</td>\n",
       "      <td>old_page</td>\n",
       "      <td>0</td>\n",
       "      <td>UK</td>\n",
       "    </tr>\n",
       "    <tr>\n",
       "      <th>176141</th>\n",
       "      <td>856112</td>\n",
       "      <td>53:41.3</td>\n",
       "      <td>control</td>\n",
       "      <td>old_page</td>\n",
       "      <td>0</td>\n",
       "      <td>US</td>\n",
       "    </tr>\n",
       "    <tr>\n",
       "      <th>195621</th>\n",
       "      <td>648192</td>\n",
       "      <td>40:43.6</td>\n",
       "      <td>control</td>\n",
       "      <td>old_page</td>\n",
       "      <td>0</td>\n",
       "      <td>UK</td>\n",
       "    </tr>\n",
       "    <tr>\n",
       "      <th>244115</th>\n",
       "      <td>776960</td>\n",
       "      <td>11:51.4</td>\n",
       "      <td>control</td>\n",
       "      <td>old_page</td>\n",
       "      <td>0</td>\n",
       "      <td>US</td>\n",
       "    </tr>\n",
       "    <tr>\n",
       "      <th>3465</th>\n",
       "      <td>655981</td>\n",
       "      <td>43:47.7</td>\n",
       "      <td>treatment</td>\n",
       "      <td>new_page</td>\n",
       "      <td>1</td>\n",
       "      <td>US</td>\n",
       "    </tr>\n",
       "    <tr>\n",
       "      <th>273976</th>\n",
       "      <td>842076</td>\n",
       "      <td>45:31.1</td>\n",
       "      <td>treatment</td>\n",
       "      <td>new_page</td>\n",
       "      <td>0</td>\n",
       "      <td>US</td>\n",
       "    </tr>\n",
       "    <tr>\n",
       "      <th>46150</th>\n",
       "      <td>684503</td>\n",
       "      <td>44:08.2</td>\n",
       "      <td>treatment</td>\n",
       "      <td>new_page</td>\n",
       "      <td>0</td>\n",
       "      <td>UK</td>\n",
       "    </tr>\n",
       "    <tr>\n",
       "      <th>240880</th>\n",
       "      <td>646993</td>\n",
       "      <td>17:50.5</td>\n",
       "      <td>control</td>\n",
       "      <td>old_page</td>\n",
       "      <td>0</td>\n",
       "      <td>US</td>\n",
       "    </tr>\n",
       "    <tr>\n",
       "      <th>221162</th>\n",
       "      <td>808628</td>\n",
       "      <td>53:38.0</td>\n",
       "      <td>control</td>\n",
       "      <td>old_page</td>\n",
       "      <td>0</td>\n",
       "      <td>UK</td>\n",
       "    </tr>\n",
       "  </tbody>\n",
       "</table>\n",
       "</div>"
      ],
      "text/plain": [
       "            id     time  con_treat      page  converted country\n",
       "222243  637403  17:00.9  treatment  new_page          0      US\n",
       "52786   699027  44:31.6    control  old_page          0      UK\n",
       "176141  856112  53:41.3    control  old_page          0      US\n",
       "195621  648192  40:43.6    control  old_page          0      UK\n",
       "244115  776960  11:51.4    control  old_page          0      US\n",
       "3465    655981  43:47.7  treatment  new_page          1      US\n",
       "273976  842076  45:31.1  treatment  new_page          0      US\n",
       "46150   684503  44:08.2  treatment  new_page          0      UK\n",
       "240880  646993  17:50.5    control  old_page          0      US\n",
       "221162  808628  53:38.0    control  old_page          0      UK"
      ]
     },
     "execution_count": 124,
     "metadata": {},
     "output_type": "execute_result"
    }
   ],
   "source": [
    "data.sample(10)"
   ]
  },
  {
   "cell_type": "markdown",
   "metadata": {},
   "source": [
    "# EDA"
   ]
  },
  {
   "cell_type": "code",
   "execution_count": 125,
   "metadata": {},
   "outputs": [],
   "source": [
    "def plot_piechart(df, columns):\n",
    "    fig, ax = plt.subplots(1,len(columns), figsize=(20, 20))\n",
    "\n",
    "    for col, ax in zip(columns, ax.flatten()):\n",
    "        ax.pie(df[col].value_counts(), autopct='%1.1f%%', startangle=90)\n",
    "        ax.legend(labels=df[col].value_counts().index, loc='best')\n",
    "        ax.set_title(col.title(), fontsize=15, fontweight='bold')\n",
    "\n",
    "    plt.tight_layout()"
   ]
  },
  {
   "cell_type": "code",
   "execution_count": 126,
   "metadata": {},
   "outputs": [
    {
     "data": {
      "image/png": "[encoded data removed]",
      "text/plain": [
       "<Figure size 1440x1440 with 4 Axes>"
      ]
     },
     "metadata": {},
     "output_type": "display_data"
    }
   ],
   "source": [
    "plot_piechart(data, ['con_treat', 'page', 'converted', 'country'])"
   ]
  },
  {
   "cell_type": "markdown",
   "metadata": {},
   "source": [
    "- There were a total of 147,276 users in the \"treatment\" group and 147,202 users in the \"control\" group. Both groups have approximately same proportion.\n",
    "- For the \"page\" variable, there were an equal number of users who were shown the \"old_page\" (147,239) and \"new_page\" (147,239).\n",
    "- The majority of users (259,241) did not convert, while 35,237 users did convert.\n",
    "- Around 70% of users are from USA followed by UK (25%). Least number of users were from Canada (14,695)."
   ]
  },
  {
   "cell_type": "markdown",
   "metadata": {},
   "source": [
    "## Validating control and treatment group"
   ]
  },
  {
   "cell_type": "code",
   "execution_count": 127,
   "metadata": {},
   "outputs": [
    {
     "data": {
      "text/plain": [
       "treatment    147276\n",
       "control      147202\n",
       "Name: con_treat, dtype: int64"
      ]
     },
     "execution_count": 127,
     "metadata": {},
     "output_type": "execute_result"
    }
   ],
   "source": [
    "data['con_treat'].value_counts()"
   ]
  },
  {
   "cell_type": "code",
   "execution_count": 128,
   "metadata": {},
   "outputs": [
    {
     "data": {
      "text/plain": [
       "old_page    147239\n",
       "new_page    147239\n",
       "Name: page, dtype: int64"
      ]
     },
     "execution_count": 128,
     "metadata": {},
     "output_type": "execute_result"
    }
   ],
   "source": [
    "data['page'].value_counts()"
   ]
  },
  {
   "cell_type": "markdown",
   "metadata": {},
   "source": [
    "From the given information, we can see that the number of values for 'con_treat' and 'page' do not match, even though they are expected to be the same. This indicates that there might be some discrepancy or inconsistency in the dataset.\n",
    "\n",
    "The 'con_treat' column indicates whether a user was in the treatment or control group, while the 'page' column indicates whether the user was shown the old page or new page. Since the control group are the users who are presented with old page whereas treatment group represent the users who are shown the new page, we expect the count of users in each group to be the same.\n",
    "\n",
    "This discrepancy suggests that there may be some errors or inconsistencies in the data, which could affect the results of any analysis or A/B testing conducted on this dataset. Further investigation and cleaning may be necessary to ensure the validity and reliability of the data. Lets dive deeper into this issue."
   ]
  },
  {
   "cell_type": "code",
   "execution_count": 129,
   "metadata": {},
   "outputs": [
    {
     "name": "stdout",
     "output_type": "stream",
     "text": [
      "Total number of discrepencies: 3893\n",
      "The proportion of discrepency1: 0.65 %\n",
      "The proportion of discrepency2: 0.67 %\n"
     ]
    }
   ],
   "source": [
    "discrepancy1=list(data[(data['con_treat']=='control') & (data['page']=='new_page')].index)\n",
    "discrepancy2=list(data[(data['con_treat']=='treatment') & (data['page']=='old_page')].index)\n",
    "\n",
    "print('Total number of discrepencies:', len(discrepancy1)+len(discrepancy2))\n",
    "print('The proportion of discrepency1:', round(len(discrepancy1)*100/data.shape[0],2), '%')\n",
    "print('The proportion of discrepency2:', round(len(discrepancy2)*100/data.shape[0],2), '%')"
   ]
  },
  {
   "cell_type": "markdown",
   "metadata": {},
   "source": [
    "Since the proportion is very small and almost the same, we will drop the affected rows. But lets cross check how it affects our data"
   ]
  },
  {
   "cell_type": "code",
   "execution_count": 130,
   "metadata": {},
   "outputs": [
    {
     "data": {
      "text/plain": [
       "(290585, 6)"
      ]
     },
     "execution_count": 130,
     "metadata": {},
     "output_type": "execute_result"
    }
   ],
   "source": [
    "data_new= data.drop(discrepancy1+discrepancy2)\n",
    "data_new.shape"
   ]
  },
  {
   "cell_type": "code",
   "execution_count": 131,
   "metadata": {},
   "outputs": [
    {
     "data": {
      "image/png": "[encoded data removed]",
      "text/plain": [
       "<Figure size 1440x1440 with 4 Axes>"
      ]
     },
     "metadata": {},
     "output_type": "display_data"
    }
   ],
   "source": [
    "plot_piechart(data_new, ['con_treat', 'page', 'converted', 'country'])"
   ]
  },
  {
   "cell_type": "markdown",
   "metadata": {},
   "source": [
    "Good News!!!Dropping the affected rows did not distrurb the distribution. So we can proceed further"
   ]
  },
  {
   "cell_type": "markdown",
   "metadata": {},
   "source": [
    "## Country-wise conversion rate"
   ]
  },
  {
   "cell_type": "code",
   "execution_count": 132,
   "metadata": {},
   "outputs": [
    {
     "data": {
      "image/png": "[encoded data removed]",
      "text/plain": [
       "<Figure size 432x288 with 1 Axes>"
      ]
     },
     "metadata": {},
     "output_type": "display_data"
    }
   ],
   "source": [
    "country_wise= data_new.groupby('country')['converted'].mean()\n",
    "sns.barplot(country_wise.keys(), country_wise.values)\n",
    "plt.ylabel('Conversion rate')\n",
    "plt.title('Country-wise conversion rate', fontsize=15, fontweight='bold');"
   ]
  },
  {
   "cell_type": "markdown",
   "metadata": {},
   "source": [
    "- The mean conversion rate for Canada (CA) is 0.115318, for the United Kingdom (UK) is 0.120594, and for the United States (US) is 0.119546.\n",
    "- The conversion rate for the UK is slightly higher than the other countries."
   ]
  },
  {
   "cell_type": "markdown",
   "metadata": {},
   "source": [
    "# Experiment Design"
   ]
  },
  {
   "cell_type": "markdown",
   "metadata": {},
   "source": [
    "## Hypothesis"
   ]
  },
  {
   "cell_type": "markdown",
   "metadata": {},
   "source": [
    "Based on the user experience research, if the client update the checkout page design, the user who are paying for products will increase as measured by the conversion rate.\n",
    "\n",
    "- Null Hypothesis: The conversion rate for both control and treatment group is same\n",
    "\n",
    "- Alternate Hypothesis: The conversion rate for both control and treatment group is different"
   ]
  },
  {
   "cell_type": "markdown",
   "metadata": {},
   "source": [
    "## Design Parameters"
   ]
  },
  {
   "cell_type": "markdown",
   "metadata": {},
   "source": [
    "#### Power\n",
    " - It is the probability of detecting an effect of a pre-determined size or higher, if the treatment results in a true difference in metrics. \n",
    " - It is mathematically represented as one minus beta where beta is the type 2 or false negative error rate that occurs when we fail to reject the null hypothesis and mistakenly conclude that the treatment has no meaningful effect when in reality it does.\n",
    " - Power is commonly set at 80% while sizing the test\n",
    "\n",
    "#### Minimum Detectable effect (MDE)\n",
    "- It is also known as practical significance level. \n",
    "- We set it as the size of the effect of a treatment that we consider significant to the business. \n",
    "- In other words, how much do the metrics need to move by for us to make a decision or change our mind about a default action. \n",
    "- Any effect under that level would be considered unimportant.\n",
    "\n",
    "#### Significance level\n",
    "- The significance level alpha which represents the false positive rate or the probability that we mistakenly reject the Null hypothesis and conclude that the change has a real effect when it doesn't. \n",
    "- This is ultimately how we decide if the test result is statistically significant. \n",
    "- The p-value is the probability of obtaining the observed result, or more extreme, under the Null hypothesis. \n",
    "- If this probability is lower than our pre-selected significance level, then we conclude that it is unlikely that the observed difference between the groups would occur if the null hypothesis was true, leading to rejecting it.\n",
    "- The selected significant level for this problem is 0.05 \n",
    "\n"
   ]
  },
  {
   "cell_type": "markdown",
   "metadata": {},
   "source": [
    "## Analysing probability distribution"
   ]
  },
  {
   "cell_type": "code",
   "execution_count": null,
   "metadata": {},
   "outputs": [],
   "source": [
    "sample_means_control=[]\n",
    "sample_means_treatment=[]\n",
    "\n",
    "for i in range(1000):\n",
    "    sample=data_new.sample(frac=1, replace=True)\n",
    "    mean_control=sample[sample['con_treat']=='control']['converted'].mean()\n",
    "    mean_treatment=sample[sample['con_treat']=='treatment']['converted'].mean()\n",
    "    sample_means_control.append(mean_control)\n",
    "    sample_means_treatment.append(mean_treatment)"
   ]
  },
  {
   "cell_type": "code",
   "execution_count": null,
   "metadata": {},
   "outputs": [
    {
     "name": "stdout",
     "output_type": "stream",
     "text": [
      "The difference mean: 0.0015965821709969102\n"
     ]
    },
    {
     "data": {
      "image/png": "[encoded data removed]",
      "text/plain": [
       "<Figure size 576x360 with 1 Axes>"
      ]
     },
     "metadata": {},
     "output_type": "display_data"
    }
   ],
   "source": [
    "plt.figure(figsize=(8,5))\n",
    "sns.kdeplot(sample_means_control, label='Control')\n",
    "sns.kdeplot(sample_means_treatment, label='Treatment')\n",
    "plt.axvline(np.mean(sample_means_control), linestyle='--', color='skyblue')\n",
    "plt.axvline(np.mean(sample_means_treatment), linestyle='--', color='orange')\n",
    "plt.legend();\n",
    "print('The difference mean:', np.mean(sample_means_control)-np.mean(sample_means_treatment))"
   ]
  },
  {
   "cell_type": "markdown",
   "metadata": {},
   "source": [
    "- We can see that there is difference in conversion rate in both groups.\n",
    "- However it is important to see if this difference is statistically significant"
   ]
  },
  {
   "cell_type": "markdown",
   "metadata": {},
   "source": [
    "## Power Analysis"
   ]
  },
  {
   "cell_type": "code",
   "execution_count": null,
   "metadata": {},
   "outputs": [],
   "source": []
  }
 ],
 "metadata": {
  "kernelspec": {
   "display_name": "Python 3.9.7 ('base')",
   "language": "python",
   "name": "python3"
  },
  "language_info": {
   "codemirror_mode": {
    "name": "ipython",
    "version": 3
   },
   "file_extension": ".py",
   "mimetype": "text/x-python",
   "name": "python",
   "nbconvert_exporter": "python",
   "pygments_lexer": "ipython3",
   "version": "3.9.7"
  },
  "orig_nbformat": 4,
  "vscode": {
   "interpreter": {
    "hash": "a830059a9c722dc07a2d3b6438b71a1ebbefa5368f89a311b0b30f271271817c"
   }
  }
 },
 "nbformat": 4,
 "nbformat_minor": 2
}
