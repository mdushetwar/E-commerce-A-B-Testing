{
 "cells": [
  {
   "cell_type": "markdown",
   "metadata": {},
   "source": [
    "For this project, you will be working to understand the results of an A/B test run by an e-commerce website. The company has developed a new web page in order to try and increase the number of users who \"convert,\" meaning the number of users who decide to pay for the company's product. Your goal is to work through this notebook to help the company understand if they should implement this new page, keep the old page, or perhaps run the experiment longer to make their decision."
   ]
  },
  {
   "cell_type": "markdown",
   "metadata": {},
   "source": [
    "# Importing Libraries\n"
   ]
  },
  {
   "cell_type": "code",
   "execution_count": 67,
   "metadata": {},
   "outputs": [],
   "source": [
    "# basics\n",
    "import numpy as np\n",
    "import pandas as pd\n",
    "\n",
    "#visualisation\n",
    "import matplotlib.pyplot as plt\n",
    "import seaborn as sns\n",
    "\n",
    "#warning\n",
    "import warnings\n",
    "warnings.filterwarnings('ignore')\n",
    "\n",
    "#setting notebook style\n",
    "sns.set_style('darkgrid')"
   ]
  },
  {
   "cell_type": "code",
   "execution_count": 17,
   "metadata": {},
   "outputs": [
    {
     "data": {
      "text/html": [
       "<div>\n",
       "<style scoped>\n",
       "    .dataframe tbody tr th:only-of-type {\n",
       "        vertical-align: middle;\n",
       "    }\n",
       "\n",
       "    .dataframe tbody tr th {\n",
       "        vertical-align: top;\n",
       "    }\n",
       "\n",
       "    .dataframe thead th {\n",
       "        text-align: right;\n",
       "    }\n",
       "</style>\n",
       "<table border=\"1\" class=\"dataframe\">\n",
       "  <thead>\n",
       "    <tr style=\"text-align: right;\">\n",
       "      <th></th>\n",
       "      <th>id</th>\n",
       "      <th>time</th>\n",
       "      <th>con_treat</th>\n",
       "      <th>page</th>\n",
       "      <th>converted</th>\n",
       "    </tr>\n",
       "  </thead>\n",
       "  <tbody>\n",
       "    <tr>\n",
       "      <th>0</th>\n",
       "      <td>851104</td>\n",
       "      <td>11:48.6</td>\n",
       "      <td>control</td>\n",
       "      <td>old_page</td>\n",
       "      <td>0</td>\n",
       "    </tr>\n",
       "    <tr>\n",
       "      <th>1</th>\n",
       "      <td>804228</td>\n",
       "      <td>01:45.2</td>\n",
       "      <td>control</td>\n",
       "      <td>old_page</td>\n",
       "      <td>0</td>\n",
       "    </tr>\n",
       "    <tr>\n",
       "      <th>2</th>\n",
       "      <td>661590</td>\n",
       "      <td>55:06.2</td>\n",
       "      <td>treatment</td>\n",
       "      <td>new_page</td>\n",
       "      <td>0</td>\n",
       "    </tr>\n",
       "    <tr>\n",
       "      <th>3</th>\n",
       "      <td>853541</td>\n",
       "      <td>28:03.1</td>\n",
       "      <td>treatment</td>\n",
       "      <td>new_page</td>\n",
       "      <td>0</td>\n",
       "    </tr>\n",
       "    <tr>\n",
       "      <th>4</th>\n",
       "      <td>864975</td>\n",
       "      <td>52:26.2</td>\n",
       "      <td>control</td>\n",
       "      <td>old_page</td>\n",
       "      <td>1</td>\n",
       "    </tr>\n",
       "  </tbody>\n",
       "</table>\n",
       "</div>"
      ],
      "text/plain": [
       "       id     time  con_treat      page  converted\n",
       "0  851104  11:48.6    control  old_page          0\n",
       "1  804228  01:45.2    control  old_page          0\n",
       "2  661590  55:06.2  treatment  new_page          0\n",
       "3  853541  28:03.1  treatment  new_page          0\n",
       "4  864975  52:26.2    control  old_page          1"
      ]
     },
     "execution_count": 17,
     "metadata": {},
     "output_type": "execute_result"
    }
   ],
   "source": [
    "experiment= pd.read_csv('ab_test.csv')\n",
    "experiment.head()"
   ]
  },
  {
   "cell_type": "code",
   "execution_count": 6,
   "metadata": {},
   "outputs": [
    {
     "data": {
      "text/html": [
       "<div>\n",
       "<style scoped>\n",
       "    .dataframe tbody tr th:only-of-type {\n",
       "        vertical-align: middle;\n",
       "    }\n",
       "\n",
       "    .dataframe tbody tr th {\n",
       "        vertical-align: top;\n",
       "    }\n",
       "\n",
       "    .dataframe thead th {\n",
       "        text-align: right;\n",
       "    }\n",
       "</style>\n",
       "<table border=\"1\" class=\"dataframe\">\n",
       "  <thead>\n",
       "    <tr style=\"text-align: right;\">\n",
       "      <th></th>\n",
       "      <th>id</th>\n",
       "      <th>country</th>\n",
       "    </tr>\n",
       "  </thead>\n",
       "  <tbody>\n",
       "    <tr>\n",
       "      <th>0</th>\n",
       "      <td>834778</td>\n",
       "      <td>UK</td>\n",
       "    </tr>\n",
       "    <tr>\n",
       "      <th>1</th>\n",
       "      <td>928468</td>\n",
       "      <td>US</td>\n",
       "    </tr>\n",
       "    <tr>\n",
       "      <th>2</th>\n",
       "      <td>822059</td>\n",
       "      <td>UK</td>\n",
       "    </tr>\n",
       "    <tr>\n",
       "      <th>3</th>\n",
       "      <td>711597</td>\n",
       "      <td>UK</td>\n",
       "    </tr>\n",
       "    <tr>\n",
       "      <th>4</th>\n",
       "      <td>710616</td>\n",
       "      <td>UK</td>\n",
       "    </tr>\n",
       "    <tr>\n",
       "      <th>...</th>\n",
       "      <td>...</td>\n",
       "      <td>...</td>\n",
       "    </tr>\n",
       "    <tr>\n",
       "      <th>290579</th>\n",
       "      <td>653118</td>\n",
       "      <td>US</td>\n",
       "    </tr>\n",
       "    <tr>\n",
       "      <th>290580</th>\n",
       "      <td>878226</td>\n",
       "      <td>UK</td>\n",
       "    </tr>\n",
       "    <tr>\n",
       "      <th>290581</th>\n",
       "      <td>799368</td>\n",
       "      <td>UK</td>\n",
       "    </tr>\n",
       "    <tr>\n",
       "      <th>290582</th>\n",
       "      <td>655535</td>\n",
       "      <td>CA</td>\n",
       "    </tr>\n",
       "    <tr>\n",
       "      <th>290583</th>\n",
       "      <td>934996</td>\n",
       "      <td>UK</td>\n",
       "    </tr>\n",
       "  </tbody>\n",
       "</table>\n",
       "<p>290584 rows × 2 columns</p>\n",
       "</div>"
      ],
      "text/plain": [
       "            id country\n",
       "0       834778      UK\n",
       "1       928468      US\n",
       "2       822059      UK\n",
       "3       711597      UK\n",
       "4       710616      UK\n",
       "...        ...     ...\n",
       "290579  653118      US\n",
       "290580  878226      UK\n",
       "290581  799368      UK\n",
       "290582  655535      CA\n",
       "290583  934996      UK\n",
       "\n",
       "[290584 rows x 2 columns]"
      ]
     },
     "execution_count": 6,
     "metadata": {},
     "output_type": "execute_result"
    }
   ],
   "source": [
    "countries=pd.read_csv('countries_ab.csv')\n",
    "countries"
   ]
  },
  {
   "cell_type": "code",
   "execution_count": 10,
   "metadata": {},
   "outputs": [
    {
     "name": "stdout",
     "output_type": "stream",
     "text": [
      "Shape of experiment dataset: (294478, 5)\n",
      "Shape of countries dataset: (290584, 2)\n"
     ]
    }
   ],
   "source": [
    "print('Shape of experiment dataset:', experiment.shape)\n",
    "print('Shape of countries dataset:', countries.shape)"
   ]
  },
  {
   "cell_type": "code",
   "execution_count": 16,
   "metadata": {},
   "outputs": [
    {
     "name": "stdout",
     "output_type": "stream",
     "text": [
      "<class 'pandas.core.frame.DataFrame'>\n",
      "RangeIndex: 294478 entries, 0 to 294477\n",
      "Data columns (total 5 columns):\n",
      " #   Column     Non-Null Count   Dtype \n",
      "---  ------     --------------   ----- \n",
      " 0   id         294478 non-null  int64 \n",
      " 1   time       294478 non-null  object\n",
      " 2   con_treat  294478 non-null  object\n",
      " 3   page       294478 non-null  object\n",
      " 4   converted  294478 non-null  int64 \n",
      "dtypes: int64(2), object(3)\n",
      "memory usage: 11.2+ MB\n",
      "None\n",
      "===========================================\n",
      "<class 'pandas.core.frame.DataFrame'>\n",
      "RangeIndex: 290584 entries, 0 to 290583\n",
      "Data columns (total 2 columns):\n",
      " #   Column   Non-Null Count   Dtype \n",
      "---  ------   --------------   ----- \n",
      " 0   id       290584 non-null  int64 \n",
      " 1   country  290584 non-null  object\n",
      "dtypes: int64(1), object(1)\n",
      "memory usage: 4.4+ MB\n",
      "None\n"
     ]
    }
   ],
   "source": [
    "print(experiment.info())\n",
    "print('===========================================')\n",
    "print(countries.info())"
   ]
  },
  {
   "cell_type": "markdown",
   "metadata": {},
   "source": [
    "experiment dataset:\n",
    "\n",
    "- It contains 294,478 rows and 5 columns.\n",
    "- There are no missing values in any of the columns, as indicated by the \"Non-Null Count\" values for each column.\n",
    "- The 'id', 'con_treat', and 'page' columns are stored as objects (strings), while the 'time' and 'converted' columns are stored as integers.\n",
    "- The memory usage of the data frame is 11.2+ MB.\n",
    "\n",
    "countries dataset:\n",
    "\n",
    "- It contains 290,584 rows and 2 columns.\n",
    "- There are no missing values in any of the columns.\n",
    "- The 'id' column is stored as an integer, while the 'country' column is stored as an object (string).\n",
    "- The memory usage of the data frame is 4.4+ MB."
   ]
  },
  {
   "cell_type": "code",
   "execution_count": 21,
   "metadata": {},
   "outputs": [
    {
     "data": {
      "text/html": [
       "<div>\n",
       "<style scoped>\n",
       "    .dataframe tbody tr th:only-of-type {\n",
       "        vertical-align: middle;\n",
       "    }\n",
       "\n",
       "    .dataframe tbody tr th {\n",
       "        vertical-align: top;\n",
       "    }\n",
       "\n",
       "    .dataframe thead th {\n",
       "        text-align: right;\n",
       "    }\n",
       "</style>\n",
       "<table border=\"1\" class=\"dataframe\">\n",
       "  <thead>\n",
       "    <tr style=\"text-align: right;\">\n",
       "      <th></th>\n",
       "      <th>id</th>\n",
       "      <th>converted</th>\n",
       "    </tr>\n",
       "  </thead>\n",
       "  <tbody>\n",
       "    <tr>\n",
       "      <th>count</th>\n",
       "      <td>294478.000000</td>\n",
       "      <td>294478.000000</td>\n",
       "    </tr>\n",
       "    <tr>\n",
       "      <th>mean</th>\n",
       "      <td>787974.124733</td>\n",
       "      <td>0.119659</td>\n",
       "    </tr>\n",
       "    <tr>\n",
       "      <th>std</th>\n",
       "      <td>91210.823776</td>\n",
       "      <td>0.324563</td>\n",
       "    </tr>\n",
       "    <tr>\n",
       "      <th>min</th>\n",
       "      <td>630000.000000</td>\n",
       "      <td>0.000000</td>\n",
       "    </tr>\n",
       "    <tr>\n",
       "      <th>25%</th>\n",
       "      <td>709032.250000</td>\n",
       "      <td>0.000000</td>\n",
       "    </tr>\n",
       "    <tr>\n",
       "      <th>50%</th>\n",
       "      <td>787933.500000</td>\n",
       "      <td>0.000000</td>\n",
       "    </tr>\n",
       "    <tr>\n",
       "      <th>75%</th>\n",
       "      <td>866911.750000</td>\n",
       "      <td>0.000000</td>\n",
       "    </tr>\n",
       "    <tr>\n",
       "      <th>max</th>\n",
       "      <td>945999.000000</td>\n",
       "      <td>1.000000</td>\n",
       "    </tr>\n",
       "  </tbody>\n",
       "</table>\n",
       "</div>"
      ],
      "text/plain": [
       "                  id      converted\n",
       "count  294478.000000  294478.000000\n",
       "mean   787974.124733       0.119659\n",
       "std     91210.823776       0.324563\n",
       "min    630000.000000       0.000000\n",
       "25%    709032.250000       0.000000\n",
       "50%    787933.500000       0.000000\n",
       "75%    866911.750000       0.000000\n",
       "max    945999.000000       1.000000"
      ]
     },
     "execution_count": 21,
     "metadata": {},
     "output_type": "execute_result"
    }
   ],
   "source": [
    "experiment.describe()"
   ]
  },
  {
   "cell_type": "markdown",
   "metadata": {},
   "source": [
    "From the mean of the converted column, we can say that around 12% users are converted"
   ]
  },
  {
   "cell_type": "code",
   "execution_count": 23,
   "metadata": {},
   "outputs": [
    {
     "name": "stdout",
     "output_type": "stream",
     "text": [
      "           time  con_treat      page\n",
      "count    294478     294478    294478\n",
      "unique    35993          2         2\n",
      "top     36:26.7  treatment  old_page\n",
      "freq         22     147276    147239\n",
      "===============================\n",
      "       country\n",
      "count   290584\n",
      "unique       3\n",
      "top         US\n",
      "freq    203619\n"
     ]
    }
   ],
   "source": [
    "print(experiment.describe(include='O'))\n",
    "print('===============================')\n",
    "print(countries.describe(include='O'))"
   ]
  },
  {
   "cell_type": "markdown",
   "metadata": {},
   "source": [
    "experiment dataser:\n",
    "\n",
    "- The 'time' column has 35,993 unique values, which could indicate that the data was collected over a period of time.\n",
    "- The 'con_treat' column has only two unique values, indicating that the experiment was a simple A/B test.\n",
    "- The 'page' column also has two unique values, indicating that there were two versions of the landing page.\n",
    "- The 'top' value of the 'con_treat' column is 'treatment', which occurred 147,276 times.\n",
    "- The 'top' value of the 'page' column is 'old_page', which occurred 147,239 times.\n",
    "\n",
    "\n",
    "countries dataset:\n",
    "\n",
    "- The 'country' column is a categorical column.\n",
    "- There are 290,584 rows in the 'country' column, indicating that there are 3,894 missing values.\n",
    "- The 'top' value of the 'country' column is 'US', which occurred 203,619 times."
   ]
  },
  {
   "cell_type": "code",
   "execution_count": 33,
   "metadata": {},
   "outputs": [
    {
     "name": "stdout",
     "output_type": "stream",
     "text": [
      "Unique values in con_treat column are:\n",
      "['control', 'treatment']\n",
      "Number of unique values: 2\n",
      "===============================\n",
      "Unique values in page column are:\n",
      "['old_page', 'new_page']\n",
      "Number of unique values: 2\n",
      "===============================\n",
      "Unique values in country column are:\n",
      "['UK', 'US', 'CA']\n",
      "Number of unique values: 3\n"
     ]
    }
   ],
   "source": [
    "# checking unique values\n",
    "\n",
    "print('Unique values in con_treat column are:')\n",
    "print(list(experiment['con_treat'].unique()))\n",
    "print('Number of unique values:', len(list(experiment['con_treat'].unique())))\n",
    "print('===============================')\n",
    "print('Unique values in page column are:')\n",
    "print(list(experiment['page'].unique()))\n",
    "print('Number of unique values:', len(list(experiment['page'].unique())))\n",
    "print('===============================')\n",
    "print('Unique values in country column are:')\n",
    "print(list(countries['country'].unique()))\n",
    "print('Number of unique values:', len(list(countries['country'].unique())))"
   ]
  },
  {
   "cell_type": "markdown",
   "metadata": {},
   "source": [
    "### Merging both dataset"
   ]
  },
  {
   "cell_type": "code",
   "execution_count": 24,
   "metadata": {},
   "outputs": [],
   "source": [
    "data= experiment.merge(countries, on='id')"
   ]
  },
  {
   "cell_type": "code",
   "execution_count": 26,
   "metadata": {},
   "outputs": [
    {
     "name": "stdout",
     "output_type": "stream",
     "text": [
      "Shape of experiment dataset: (294478, 5)\n",
      "Shape of countries dataset: (290584, 2)\n",
      "Shape of merged dataset: (294478, 6)\n"
     ]
    }
   ],
   "source": [
    "print('Shape of experiment dataset:', experiment.shape)\n",
    "print('Shape of countries dataset:', countries.shape)\n",
    "print('Shape of merged dataset:',data.shape)"
   ]
  },
  {
   "cell_type": "code",
   "execution_count": 27,
   "metadata": {},
   "outputs": [
    {
     "data": {
      "text/html": [
       "<div>\n",
       "<style scoped>\n",
       "    .dataframe tbody tr th:only-of-type {\n",
       "        vertical-align: middle;\n",
       "    }\n",
       "\n",
       "    .dataframe tbody tr th {\n",
       "        vertical-align: top;\n",
       "    }\n",
       "\n",
       "    .dataframe thead th {\n",
       "        text-align: right;\n",
       "    }\n",
       "</style>\n",
       "<table border=\"1\" class=\"dataframe\">\n",
       "  <thead>\n",
       "    <tr style=\"text-align: right;\">\n",
       "      <th></th>\n",
       "      <th>id</th>\n",
       "      <th>time</th>\n",
       "      <th>con_treat</th>\n",
       "      <th>page</th>\n",
       "      <th>converted</th>\n",
       "      <th>country</th>\n",
       "    </tr>\n",
       "  </thead>\n",
       "  <tbody>\n",
       "    <tr>\n",
       "      <th>0</th>\n",
       "      <td>851104</td>\n",
       "      <td>11:48.6</td>\n",
       "      <td>control</td>\n",
       "      <td>old_page</td>\n",
       "      <td>0</td>\n",
       "      <td>US</td>\n",
       "    </tr>\n",
       "    <tr>\n",
       "      <th>1</th>\n",
       "      <td>804228</td>\n",
       "      <td>01:45.2</td>\n",
       "      <td>control</td>\n",
       "      <td>old_page</td>\n",
       "      <td>0</td>\n",
       "      <td>US</td>\n",
       "    </tr>\n",
       "    <tr>\n",
       "      <th>2</th>\n",
       "      <td>661590</td>\n",
       "      <td>55:06.2</td>\n",
       "      <td>treatment</td>\n",
       "      <td>new_page</td>\n",
       "      <td>0</td>\n",
       "      <td>US</td>\n",
       "    </tr>\n",
       "    <tr>\n",
       "      <th>3</th>\n",
       "      <td>853541</td>\n",
       "      <td>28:03.1</td>\n",
       "      <td>treatment</td>\n",
       "      <td>new_page</td>\n",
       "      <td>0</td>\n",
       "      <td>US</td>\n",
       "    </tr>\n",
       "    <tr>\n",
       "      <th>4</th>\n",
       "      <td>864975</td>\n",
       "      <td>52:26.2</td>\n",
       "      <td>control</td>\n",
       "      <td>old_page</td>\n",
       "      <td>1</td>\n",
       "      <td>US</td>\n",
       "    </tr>\n",
       "  </tbody>\n",
       "</table>\n",
       "</div>"
      ],
      "text/plain": [
       "       id     time  con_treat      page  converted country\n",
       "0  851104  11:48.6    control  old_page          0      US\n",
       "1  804228  01:45.2    control  old_page          0      US\n",
       "2  661590  55:06.2  treatment  new_page          0      US\n",
       "3  853541  28:03.1  treatment  new_page          0      US\n",
       "4  864975  52:26.2    control  old_page          1      US"
      ]
     },
     "execution_count": 27,
     "metadata": {},
     "output_type": "execute_result"
    }
   ],
   "source": [
    "data.head()"
   ]
  },
  {
   "cell_type": "code",
   "execution_count": 38,
   "metadata": {},
   "outputs": [],
   "source": [
    "#changing time column datatype to datetime format\n",
    "data['time']=pd.to_datetime(data['time'],format='%M:%S.%f')"
   ]
  },
  {
   "cell_type": "markdown",
   "metadata": {},
   "source": [
    "# EDA"
   ]
  },
  {
   "cell_type": "code",
   "execution_count": 66,
   "metadata": {},
   "outputs": [
    {
     "data": {
      "image/png": "[encoded data removed]",
      "text/plain": [
       "<Figure size 1440x1440 with 4 Axes>"
      ]
     },
     "metadata": {},
     "output_type": "display_data"
    }
   ],
   "source": [
    "cols = ['con_treat', 'page', 'converted', 'country']\n",
    "fig, ax = plt.subplots(1,4, figsize=(20, 20))\n",
    "\n",
    "for col, ax in zip(cols, ax.flatten()):\n",
    "    ax.pie(data[col].value_counts(), autopct='%1.1f%%', startangle=90)\n",
    "    ax.legend(labels=data[col].value_counts().index, loc='best')\n",
    "    ax.set_title(col.title(), fontsize=15, fontweight='bold')\n",
    "\n",
    "plt.tight_layout()"
   ]
  },
  {
   "cell_type": "markdown",
   "metadata": {},
   "source": [
    "- There were a total of 147,276 users in the \"treatment\" group and 147,202 users in the \"control\" group. Both groups have approximately same proportion.\n",
    "- For the \"page\" variable, there were an equal number of users who were shown the \"old_page\" (147,239) and \"new_page\" (147,239).\n",
    "- The majority of users (259,241) did not convert, while 35,237 users did convert.\n",
    "- Around 70% of users are from USA followed by UK (25%). Least number of users were from Canada (14,695)."
   ]
  },
  {
   "cell_type": "markdown",
   "metadata": {},
   "source": [
    "# A/B Testing"
   ]
  },
  {
   "cell_type": "markdown",
   "metadata": {},
   "source": [
    "### Introduction:\n",
    "\n",
    "- The purpose of this A/B testing project is to compare the performance of the current website landing page (old_page) with a new website landing page (new_page) in terms of conversion rate. \n",
    "- A/B testing is a statistical hypothesis testing method that can be used to determine which version of a webpage or application results in the best user experience and higher conversion rates. \n",
    "- The goal is to use A/B testing to determine whether the new webpage results in a statistically significant increase in the conversion rate compared to the old webpage."
   ]
  },
  {
   "cell_type": "markdown",
   "metadata": {},
   "source": [
    "### Problem Statement:\n",
    "- The conversion rate of the current website landing page is low, and there is a need to improve it to increase sales and revenue. \n",
    "- The company has created a new landing page and wants to know if it performs better than the old landing page in terms of conversion rate. \n",
    "- The problem statement is to identify whether the new landing page results in a statistically significant increase in the conversion rate compared to the old landing page."
   ]
  },
  {
   "cell_type": "markdown",
   "metadata": {},
   "source": [
    "### Scope:\n",
    "- The scope of this project is to design and conduct an A/B test to determine whether the new landing page results in a statistically significant increase in the conversion rate compared to the old landing page. \n",
    "- The test will be conducted on a randomly selected sample of website visitors who will be randomly assigned to either the control group, which will see the old landing page, or the treatment group, which will see the new landing page. \n",
    "- The test will run for a sufficient amount of time to collect enough data to draw statistically valid conclusions."
   ]
  },
  {
   "cell_type": "markdown",
   "metadata": {},
   "source": [
    "### Challenges:\n",
    "- One of the main challenges in this project is to ensure that the test is properly designed to avoid bias and ensure statistical validity. \n",
    "- Another challenge is to ensure that the sample size is large enough to detect statistically significant differences in the conversion rates. \n",
    "- It may also be a challenge to ensure that the test is run for a sufficient amount of time to collect enough data to draw statistically valid conclusions."
   ]
  },
  {
   "cell_type": "markdown",
   "metadata": {},
   "source": [
    "### Risks:\n",
    "- There is a risk that the test may not show a statistically significant difference between the old and new landing pages, which would mean that the company would have invested resources in creating a new landing page without seeing any benefit. \n",
    "- There is also a risk that the test may show a statistically significant difference, but the new landing page may not result in a practical improvement in conversion rates.\n",
    "- Finally, there is a risk that the test may be biased or invalid, resulting in incorrect conclusions being drawn."
   ]
  },
  {
   "cell_type": "code",
   "execution_count": null,
   "metadata": {},
   "outputs": [],
   "source": []
  },
  {
   "cell_type": "code",
   "execution_count": null,
   "metadata": {},
   "outputs": [],
   "source": []
  }
 ],
 "metadata": {
  "kernelspec": {
   "display_name": "Python 3.9.7 ('base')",
   "language": "python",
   "name": "python3"
  },
  "language_info": {
   "codemirror_mode": {
    "name": "ipython",
    "version": 3
   },
   "file_extension": ".py",
   "mimetype": "text/x-python",
   "name": "python",
   "nbconvert_exporter": "python",
   "pygments_lexer": "ipython3",
   "version": "3.9.7"
  },
  "orig_nbformat": 4,
  "vscode": {
   "interpreter": {
    "hash": "a830059a9c722dc07a2d3b6438b71a1ebbefa5368f89a311b0b30f271271817c"
   }
  }
 },
 "nbformat": 4,
 "nbformat_minor": 2
}
