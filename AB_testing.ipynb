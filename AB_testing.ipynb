{
 "cells": [
  {
   "cell_type": "markdown",
   "metadata": {},
   "source": [
    "# E-commerce A/B Testing"
   ]
  },
  {
   "cell_type": "markdown",
   "metadata": {},
   "source": [
    "### Introduction:\n",
    "\n",
    "- The purpose of this A/B testing project is to compare the performance of the current website landing page (old_page) with a new website landing page (new_page) in terms of conversion rate. \n",
    "- A/B testing is a statistical hypothesis testing method that can be used to determine which version of a webpage or application results in the best user experience and higher conversion rates. \n",
    "- The goal is to use A/B testing to determine whether the new webpage results in a statistically significant increase in the conversion rate compared to the old webpage."
   ]
  },
  {
   "cell_type": "markdown",
   "metadata": {},
   "source": [
    "### Problem Statement:\n",
    "- The conversion rate of the current website landing page is low, and there is a need to improve it to increase sales and revenue. \n",
    "- The company has created a new landing page and wants to know if it performs better than the old landing page in terms of conversion rate. \n",
    "- The problem statement is to identify whether the new landing page results in a statistically significant increase in the conversion rate compared to the old landing page."
   ]
  },
  {
   "cell_type": "markdown",
   "metadata": {},
   "source": [
    "### Scope:\n",
    "- The scope of this project is to design and conduct an A/B test to determine whether the new landing page results in a statistically significant increase in the conversion rate compared to the old landing page. \n",
    "- The test will be conducted on a randomly selected sample of website visitors who will be randomly assigned to either the control group, which will see the old landing page, or the treatment group, which will see the new landing page. \n",
    "- The test will run for a sufficient amount of time to collect enough data to draw statistically valid conclusions."
   ]
  },
  {
   "cell_type": "markdown",
   "metadata": {},
   "source": [
    "### Challenges:\n",
    "- One of the main challenges in this project is to ensure that the test is properly designed to avoid bias and ensure statistical validity. \n",
    "- Another challenge is to ensure that the sample size is large enough to detect statistically significant differences in the conversion rates. \n",
    "- It may also be a challenge to ensure that the test is run for a sufficient amount of time to collect enough data to draw statistically valid conclusions."
   ]
  },
  {
   "cell_type": "markdown",
   "metadata": {},
   "source": [
    "### Risks:\n",
    "- There is a risk that the test may not show a statistically significant difference between the old and new landing pages, which would mean that the company would have invested resources in creating a new landing page without seeing any benefit. \n",
    "- There is also a risk that the test may show a statistically significant difference, but the new landing page may not result in a practical improvement in conversion rates.\n",
    "- Finally, there is a risk that the test may be biased or invalid, resulting in incorrect conclusions being drawn."
   ]
  },
  {
   "cell_type": "markdown",
   "metadata": {},
   "source": [
    "# Importing Libraries\n"
   ]
  },
  {
   "cell_type": "code",
   "execution_count": 2,
   "metadata": {},
   "outputs": [],
   "source": [
    "# basics\n",
    "import numpy as np\n",
    "import pandas as pd\n",
    "\n",
    "#visualisation\n",
    "import matplotlib.pyplot as plt\n",
    "import seaborn as sns\n",
    "\n",
    "#warning\n",
    "import warnings\n",
    "warnings.filterwarnings('ignore')\n",
    "\n",
    "#setting notebook style\n",
    "sns.set_style('darkgrid')"
   ]
  },
  {
   "cell_type": "code",
   "execution_count": 3,
   "metadata": {},
   "outputs": [
    {
     "data": {
      "text/html": [
       "<div>\n",
       "<style scoped>\n",
       "    .dataframe tbody tr th:only-of-type {\n",
       "        vertical-align: middle;\n",
       "    }\n",
       "\n",
       "    .dataframe tbody tr th {\n",
       "        vertical-align: top;\n",
       "    }\n",
       "\n",
       "    .dataframe thead th {\n",
       "        text-align: right;\n",
       "    }\n",
       "</style>\n",
       "<table border=\"1\" class=\"dataframe\">\n",
       "  <thead>\n",
       "    <tr style=\"text-align: right;\">\n",
       "      <th></th>\n",
       "      <th>id</th>\n",
       "      <th>time</th>\n",
       "      <th>con_treat</th>\n",
       "      <th>page</th>\n",
       "      <th>converted</th>\n",
       "    </tr>\n",
       "  </thead>\n",
       "  <tbody>\n",
       "    <tr>\n",
       "      <th>0</th>\n",
       "      <td>851104</td>\n",
       "      <td>11:48.6</td>\n",
       "      <td>control</td>\n",
       "      <td>old_page</td>\n",
       "      <td>0</td>\n",
       "    </tr>\n",
       "    <tr>\n",
       "      <th>1</th>\n",
       "      <td>804228</td>\n",
       "      <td>01:45.2</td>\n",
       "      <td>control</td>\n",
       "      <td>old_page</td>\n",
       "      <td>0</td>\n",
       "    </tr>\n",
       "    <tr>\n",
       "      <th>2</th>\n",
       "      <td>661590</td>\n",
       "      <td>55:06.2</td>\n",
       "      <td>treatment</td>\n",
       "      <td>new_page</td>\n",
       "      <td>0</td>\n",
       "    </tr>\n",
       "    <tr>\n",
       "      <th>3</th>\n",
       "      <td>853541</td>\n",
       "      <td>28:03.1</td>\n",
       "      <td>treatment</td>\n",
       "      <td>new_page</td>\n",
       "      <td>0</td>\n",
       "    </tr>\n",
       "    <tr>\n",
       "      <th>4</th>\n",
       "      <td>864975</td>\n",
       "      <td>52:26.2</td>\n",
       "      <td>control</td>\n",
       "      <td>old_page</td>\n",
       "      <td>1</td>\n",
       "    </tr>\n",
       "  </tbody>\n",
       "</table>\n",
       "</div>"
      ],
      "text/plain": [
       "       id     time  con_treat      page  converted\n",
       "0  851104  11:48.6    control  old_page          0\n",
       "1  804228  01:45.2    control  old_page          0\n",
       "2  661590  55:06.2  treatment  new_page          0\n",
       "3  853541  28:03.1  treatment  new_page          0\n",
       "4  864975  52:26.2    control  old_page          1"
      ]
     },
     "execution_count": 3,
     "metadata": {},
     "output_type": "execute_result"
    }
   ],
   "source": [
    "experiment= pd.read_csv('ab_test.csv')\n",
    "experiment.head()"
   ]
  },
  {
   "cell_type": "code",
   "execution_count": 4,
   "metadata": {},
   "outputs": [
    {
     "data": {
      "text/html": [
       "<div>\n",
       "<style scoped>\n",
       "    .dataframe tbody tr th:only-of-type {\n",
       "        vertical-align: middle;\n",
       "    }\n",
       "\n",
       "    .dataframe tbody tr th {\n",
       "        vertical-align: top;\n",
       "    }\n",
       "\n",
       "    .dataframe thead th {\n",
       "        text-align: right;\n",
       "    }\n",
       "</style>\n",
       "<table border=\"1\" class=\"dataframe\">\n",
       "  <thead>\n",
       "    <tr style=\"text-align: right;\">\n",
       "      <th></th>\n",
       "      <th>id</th>\n",
       "      <th>country</th>\n",
       "    </tr>\n",
       "  </thead>\n",
       "  <tbody>\n",
       "    <tr>\n",
       "      <th>0</th>\n",
       "      <td>834778</td>\n",
       "      <td>UK</td>\n",
       "    </tr>\n",
       "    <tr>\n",
       "      <th>1</th>\n",
       "      <td>928468</td>\n",
       "      <td>US</td>\n",
       "    </tr>\n",
       "    <tr>\n",
       "      <th>2</th>\n",
       "      <td>822059</td>\n",
       "      <td>UK</td>\n",
       "    </tr>\n",
       "    <tr>\n",
       "      <th>3</th>\n",
       "      <td>711597</td>\n",
       "      <td>UK</td>\n",
       "    </tr>\n",
       "    <tr>\n",
       "      <th>4</th>\n",
       "      <td>710616</td>\n",
       "      <td>UK</td>\n",
       "    </tr>\n",
       "    <tr>\n",
       "      <th>...</th>\n",
       "      <td>...</td>\n",
       "      <td>...</td>\n",
       "    </tr>\n",
       "    <tr>\n",
       "      <th>290579</th>\n",
       "      <td>653118</td>\n",
       "      <td>US</td>\n",
       "    </tr>\n",
       "    <tr>\n",
       "      <th>290580</th>\n",
       "      <td>878226</td>\n",
       "      <td>UK</td>\n",
       "    </tr>\n",
       "    <tr>\n",
       "      <th>290581</th>\n",
       "      <td>799368</td>\n",
       "      <td>UK</td>\n",
       "    </tr>\n",
       "    <tr>\n",
       "      <th>290582</th>\n",
       "      <td>655535</td>\n",
       "      <td>CA</td>\n",
       "    </tr>\n",
       "    <tr>\n",
       "      <th>290583</th>\n",
       "      <td>934996</td>\n",
       "      <td>UK</td>\n",
       "    </tr>\n",
       "  </tbody>\n",
       "</table>\n",
       "<p>290584 rows × 2 columns</p>\n",
       "</div>"
      ],
      "text/plain": [
       "            id country\n",
       "0       834778      UK\n",
       "1       928468      US\n",
       "2       822059      UK\n",
       "3       711597      UK\n",
       "4       710616      UK\n",
       "...        ...     ...\n",
       "290579  653118      US\n",
       "290580  878226      UK\n",
       "290581  799368      UK\n",
       "290582  655535      CA\n",
       "290583  934996      UK\n",
       "\n",
       "[290584 rows x 2 columns]"
      ]
     },
     "execution_count": 4,
     "metadata": {},
     "output_type": "execute_result"
    }
   ],
   "source": [
    "countries=pd.read_csv('countries_ab.csv')\n",
    "countries"
   ]
  },
  {
   "cell_type": "code",
   "execution_count": 5,
   "metadata": {},
   "outputs": [
    {
     "name": "stdout",
     "output_type": "stream",
     "text": [
      "Shape of experiment dataset: (294478, 5)\n",
      "Shape of countries dataset: (290584, 2)\n"
     ]
    }
   ],
   "source": [
    "print('Shape of experiment dataset:', experiment.shape)\n",
    "print('Shape of countries dataset:', countries.shape)"
   ]
  },
  {
   "cell_type": "code",
   "execution_count": 6,
   "metadata": {},
   "outputs": [
    {
     "name": "stdout",
     "output_type": "stream",
     "text": [
      "<class 'pandas.core.frame.DataFrame'>\n",
      "RangeIndex: 294478 entries, 0 to 294477\n",
      "Data columns (total 5 columns):\n",
      " #   Column     Non-Null Count   Dtype \n",
      "---  ------     --------------   ----- \n",
      " 0   id         294478 non-null  int64 \n",
      " 1   time       294478 non-null  object\n",
      " 2   con_treat  294478 non-null  object\n",
      " 3   page       294478 non-null  object\n",
      " 4   converted  294478 non-null  int64 \n",
      "dtypes: int64(2), object(3)\n",
      "memory usage: 11.2+ MB\n",
      "None\n",
      "===========================================\n",
      "<class 'pandas.core.frame.DataFrame'>\n",
      "RangeIndex: 290584 entries, 0 to 290583\n",
      "Data columns (total 2 columns):\n",
      " #   Column   Non-Null Count   Dtype \n",
      "---  ------   --------------   ----- \n",
      " 0   id       290584 non-null  int64 \n",
      " 1   country  290584 non-null  object\n",
      "dtypes: int64(1), object(1)\n",
      "memory usage: 4.4+ MB\n",
      "None\n"
     ]
    }
   ],
   "source": [
    "print(experiment.info())\n",
    "print('===========================================')\n",
    "print(countries.info())"
   ]
  },
  {
   "cell_type": "markdown",
   "metadata": {},
   "source": [
    "experiment dataset:\n",
    "\n",
    "- It contains 294,478 rows and 5 columns.\n",
    "- There are no missing values in any of the columns, as indicated by the \"Non-Null Count\" values for each column.\n",
    "- The 'id', 'con_treat', and 'page' columns are stored as objects (strings), while the 'time' and 'converted' columns are stored as integers.\n",
    "- The memory usage of the data frame is 11.2+ MB.\n",
    "\n",
    "countries dataset:\n",
    "\n",
    "- It contains 290,584 rows and 2 columns.\n",
    "- There are no missing values in any of the columns.\n",
    "- The 'id' column is stored as an integer, while the 'country' column is stored as an object (string).\n",
    "- The memory usage of the data frame is 4.4+ MB."
   ]
  },
  {
   "cell_type": "code",
   "execution_count": 67,
   "metadata": {},
   "outputs": [
    {
     "data": {
      "text/plain": [
       "0"
      ]
     },
     "execution_count": 67,
     "metadata": {},
     "output_type": "execute_result"
    }
   ],
   "source": [
    "experiment.duplicated().sum()"
   ]
  },
  {
   "cell_type": "markdown",
   "metadata": {},
   "source": [
    "There are no duplicated records in the dataset"
   ]
  },
  {
   "cell_type": "code",
   "execution_count": 7,
   "metadata": {},
   "outputs": [
    {
     "data": {
      "text/html": [
       "<div>\n",
       "<style scoped>\n",
       "    .dataframe tbody tr th:only-of-type {\n",
       "        vertical-align: middle;\n",
       "    }\n",
       "\n",
       "    .dataframe tbody tr th {\n",
       "        vertical-align: top;\n",
       "    }\n",
       "\n",
       "    .dataframe thead th {\n",
       "        text-align: right;\n",
       "    }\n",
       "</style>\n",
       "<table border=\"1\" class=\"dataframe\">\n",
       "  <thead>\n",
       "    <tr style=\"text-align: right;\">\n",
       "      <th></th>\n",
       "      <th>id</th>\n",
       "      <th>converted</th>\n",
       "    </tr>\n",
       "  </thead>\n",
       "  <tbody>\n",
       "    <tr>\n",
       "      <th>count</th>\n",
       "      <td>294478.000000</td>\n",
       "      <td>294478.000000</td>\n",
       "    </tr>\n",
       "    <tr>\n",
       "      <th>mean</th>\n",
       "      <td>787974.124733</td>\n",
       "      <td>0.119659</td>\n",
       "    </tr>\n",
       "    <tr>\n",
       "      <th>std</th>\n",
       "      <td>91210.823776</td>\n",
       "      <td>0.324563</td>\n",
       "    </tr>\n",
       "    <tr>\n",
       "      <th>min</th>\n",
       "      <td>630000.000000</td>\n",
       "      <td>0.000000</td>\n",
       "    </tr>\n",
       "    <tr>\n",
       "      <th>25%</th>\n",
       "      <td>709032.250000</td>\n",
       "      <td>0.000000</td>\n",
       "    </tr>\n",
       "    <tr>\n",
       "      <th>50%</th>\n",
       "      <td>787933.500000</td>\n",
       "      <td>0.000000</td>\n",
       "    </tr>\n",
       "    <tr>\n",
       "      <th>75%</th>\n",
       "      <td>866911.750000</td>\n",
       "      <td>0.000000</td>\n",
       "    </tr>\n",
       "    <tr>\n",
       "      <th>max</th>\n",
       "      <td>945999.000000</td>\n",
       "      <td>1.000000</td>\n",
       "    </tr>\n",
       "  </tbody>\n",
       "</table>\n",
       "</div>"
      ],
      "text/plain": [
       "                  id      converted\n",
       "count  294478.000000  294478.000000\n",
       "mean   787974.124733       0.119659\n",
       "std     91210.823776       0.324563\n",
       "min    630000.000000       0.000000\n",
       "25%    709032.250000       0.000000\n",
       "50%    787933.500000       0.000000\n",
       "75%    866911.750000       0.000000\n",
       "max    945999.000000       1.000000"
      ]
     },
     "execution_count": 7,
     "metadata": {},
     "output_type": "execute_result"
    }
   ],
   "source": [
    "experiment.describe()"
   ]
  },
  {
   "cell_type": "markdown",
   "metadata": {},
   "source": [
    "From the mean of the converted column, we can say that around 12% users are converted"
   ]
  },
  {
   "cell_type": "code",
   "execution_count": 8,
   "metadata": {},
   "outputs": [
    {
     "name": "stdout",
     "output_type": "stream",
     "text": [
      "           time  con_treat      page\n",
      "count    294478     294478    294478\n",
      "unique    35993          2         2\n",
      "top     36:26.7  treatment  old_page\n",
      "freq         22     147276    147239\n",
      "===============================\n",
      "       country\n",
      "count   290584\n",
      "unique       3\n",
      "top         US\n",
      "freq    203619\n"
     ]
    }
   ],
   "source": [
    "print(experiment.describe(include='O'))\n",
    "print('===============================')\n",
    "print(countries.describe(include='O'))"
   ]
  },
  {
   "cell_type": "markdown",
   "metadata": {},
   "source": [
    "experiment dataser:\n",
    "\n",
    "- The 'time' column has 35,993 unique values, which could indicate that the data was collected over a period of time.\n",
    "- The 'con_treat' column has only two unique values, indicating that the experiment was a simple A/B test.\n",
    "- The 'page' column also has two unique values, indicating that there were two versions of the landing page.\n",
    "- The 'top' value of the 'con_treat' column is 'treatment', which occurred 147,276 times.\n",
    "- The 'top' value of the 'page' column is 'old_page', which occurred 147,239 times.\n",
    "\n",
    "\n",
    "countries dataset:\n",
    "\n",
    "- The 'country' column is a categorical column.\n",
    "- There are 290,584 rows in the 'country' column, indicating that there are 3,894 missing values.\n",
    "- The 'top' value of the 'country' column is 'US', which occurred 203,619 times."
   ]
  },
  {
   "cell_type": "code",
   "execution_count": 9,
   "metadata": {},
   "outputs": [
    {
     "name": "stdout",
     "output_type": "stream",
     "text": [
      "Unique values in con_treat column are:\n",
      "['control', 'treatment']\n",
      "Number of unique values: 2\n",
      "===============================\n",
      "Unique values in page column are:\n",
      "['old_page', 'new_page']\n",
      "Number of unique values: 2\n",
      "===============================\n",
      "Unique values in country column are:\n",
      "['UK', 'US', 'CA']\n",
      "Number of unique values: 3\n"
     ]
    }
   ],
   "source": [
    "# checking unique values\n",
    "\n",
    "print('Unique values in con_treat column are:')\n",
    "print(list(experiment['con_treat'].unique()))\n",
    "print('Number of unique values:', len(list(experiment['con_treat'].unique())))\n",
    "print('===============================')\n",
    "print('Unique values in page column are:')\n",
    "print(list(experiment['page'].unique()))\n",
    "print('Number of unique values:', len(list(experiment['page'].unique())))\n",
    "print('===============================')\n",
    "print('Unique values in country column are:')\n",
    "print(list(countries['country'].unique()))\n",
    "print('Number of unique values:', len(list(countries['country'].unique())))"
   ]
  },
  {
   "cell_type": "markdown",
   "metadata": {},
   "source": [
    "### Merging both dataset"
   ]
  },
  {
   "cell_type": "code",
   "execution_count": 10,
   "metadata": {},
   "outputs": [],
   "source": [
    "data= experiment.merge(countries, on='id')"
   ]
  },
  {
   "cell_type": "code",
   "execution_count": 11,
   "metadata": {},
   "outputs": [
    {
     "name": "stdout",
     "output_type": "stream",
     "text": [
      "Shape of experiment dataset: (294478, 5)\n",
      "Shape of countries dataset: (290584, 2)\n",
      "Shape of merged dataset: (294478, 6)\n"
     ]
    }
   ],
   "source": [
    "print('Shape of experiment dataset:', experiment.shape)\n",
    "print('Shape of countries dataset:', countries.shape)\n",
    "print('Shape of merged dataset:',data.shape)"
   ]
  },
  {
   "cell_type": "code",
   "execution_count": 12,
   "metadata": {},
   "outputs": [
    {
     "data": {
      "text/html": [
       "<div>\n",
       "<style scoped>\n",
       "    .dataframe tbody tr th:only-of-type {\n",
       "        vertical-align: middle;\n",
       "    }\n",
       "\n",
       "    .dataframe tbody tr th {\n",
       "        vertical-align: top;\n",
       "    }\n",
       "\n",
       "    .dataframe thead th {\n",
       "        text-align: right;\n",
       "    }\n",
       "</style>\n",
       "<table border=\"1\" class=\"dataframe\">\n",
       "  <thead>\n",
       "    <tr style=\"text-align: right;\">\n",
       "      <th></th>\n",
       "      <th>id</th>\n",
       "      <th>time</th>\n",
       "      <th>con_treat</th>\n",
       "      <th>page</th>\n",
       "      <th>converted</th>\n",
       "      <th>country</th>\n",
       "    </tr>\n",
       "  </thead>\n",
       "  <tbody>\n",
       "    <tr>\n",
       "      <th>86162</th>\n",
       "      <td>778228</td>\n",
       "      <td>23:51.0</td>\n",
       "      <td>control</td>\n",
       "      <td>old_page</td>\n",
       "      <td>0</td>\n",
       "      <td>CA</td>\n",
       "    </tr>\n",
       "    <tr>\n",
       "      <th>134233</th>\n",
       "      <td>695974</td>\n",
       "      <td>39:48.8</td>\n",
       "      <td>control</td>\n",
       "      <td>old_page</td>\n",
       "      <td>0</td>\n",
       "      <td>US</td>\n",
       "    </tr>\n",
       "    <tr>\n",
       "      <th>86648</th>\n",
       "      <td>732220</td>\n",
       "      <td>32:07.1</td>\n",
       "      <td>control</td>\n",
       "      <td>old_page</td>\n",
       "      <td>1</td>\n",
       "      <td>US</td>\n",
       "    </tr>\n",
       "    <tr>\n",
       "      <th>51263</th>\n",
       "      <td>871147</td>\n",
       "      <td>37:50.0</td>\n",
       "      <td>treatment</td>\n",
       "      <td>new_page</td>\n",
       "      <td>1</td>\n",
       "      <td>US</td>\n",
       "    </tr>\n",
       "    <tr>\n",
       "      <th>40564</th>\n",
       "      <td>888491</td>\n",
       "      <td>15:00.3</td>\n",
       "      <td>treatment</td>\n",
       "      <td>new_page</td>\n",
       "      <td>0</td>\n",
       "      <td>US</td>\n",
       "    </tr>\n",
       "    <tr>\n",
       "      <th>131437</th>\n",
       "      <td>669026</td>\n",
       "      <td>49:07.4</td>\n",
       "      <td>control</td>\n",
       "      <td>old_page</td>\n",
       "      <td>1</td>\n",
       "      <td>US</td>\n",
       "    </tr>\n",
       "    <tr>\n",
       "      <th>277224</th>\n",
       "      <td>806724</td>\n",
       "      <td>13:43.6</td>\n",
       "      <td>treatment</td>\n",
       "      <td>new_page</td>\n",
       "      <td>0</td>\n",
       "      <td>US</td>\n",
       "    </tr>\n",
       "    <tr>\n",
       "      <th>11839</th>\n",
       "      <td>763796</td>\n",
       "      <td>21:25.4</td>\n",
       "      <td>treatment</td>\n",
       "      <td>new_page</td>\n",
       "      <td>0</td>\n",
       "      <td>US</td>\n",
       "    </tr>\n",
       "    <tr>\n",
       "      <th>115504</th>\n",
       "      <td>922411</td>\n",
       "      <td>59:21.1</td>\n",
       "      <td>treatment</td>\n",
       "      <td>new_page</td>\n",
       "      <td>0</td>\n",
       "      <td>US</td>\n",
       "    </tr>\n",
       "    <tr>\n",
       "      <th>108006</th>\n",
       "      <td>809881</td>\n",
       "      <td>22:16.4</td>\n",
       "      <td>treatment</td>\n",
       "      <td>new_page</td>\n",
       "      <td>0</td>\n",
       "      <td>US</td>\n",
       "    </tr>\n",
       "  </tbody>\n",
       "</table>\n",
       "</div>"
      ],
      "text/plain": [
       "            id     time  con_treat      page  converted country\n",
       "86162   778228  23:51.0    control  old_page          0      CA\n",
       "134233  695974  39:48.8    control  old_page          0      US\n",
       "86648   732220  32:07.1    control  old_page          1      US\n",
       "51263   871147  37:50.0  treatment  new_page          1      US\n",
       "40564   888491  15:00.3  treatment  new_page          0      US\n",
       "131437  669026  49:07.4    control  old_page          1      US\n",
       "277224  806724  13:43.6  treatment  new_page          0      US\n",
       "11839   763796  21:25.4  treatment  new_page          0      US\n",
       "115504  922411  59:21.1  treatment  new_page          0      US\n",
       "108006  809881  22:16.4  treatment  new_page          0      US"
      ]
     },
     "execution_count": 12,
     "metadata": {},
     "output_type": "execute_result"
    }
   ],
   "source": [
    "data.sample(10)"
   ]
  },
  {
   "cell_type": "markdown",
   "metadata": {},
   "source": [
    "# EDA"
   ]
  },
  {
   "cell_type": "code",
   "execution_count": 13,
   "metadata": {},
   "outputs": [],
   "source": [
    "def plot_piechart(df, columns):\n",
    "    fig, ax = plt.subplots(1,len(columns), figsize=(20, 20))\n",
    "\n",
    "    for col, ax in zip(columns, ax.flatten()):\n",
    "        ax.pie(df[col].value_counts(), autopct='%1.1f%%', startangle=90)\n",
    "        ax.legend(labels=df[col].value_counts().index, loc='best')\n",
    "        ax.set_title(col.title(), fontsize=15, fontweight='bold')\n",
    "\n",
    "    plt.tight_layout()"
   ]
  },
  {
   "cell_type": "code",
   "execution_count": 14,
   "metadata": {},
   "outputs": [
    {
     "data": {
      "image/png": "[encoded data removed]",
      "text/plain": [
       "<Figure size 1440x1440 with 4 Axes>"
      ]
     },
     "metadata": {},
     "output_type": "display_data"
    }
   ],
   "source": [
    "plot_piechart(data, ['con_treat', 'page', 'converted', 'country'])"
   ]
  },
  {
   "cell_type": "markdown",
   "metadata": {},
   "source": [
    "- There were a total of 147,276 users in the \"treatment\" group and 147,202 users in the \"control\" group. Both groups have approximately same proportion.\n",
    "- For the \"page\" variable, there were an equal number of users who were shown the \"old_page\" (147,239) and \"new_page\" (147,239).\n",
    "- The majority of users (259,241) did not convert, while 35,237 users did convert.\n",
    "- Around 70% of users are from USA followed by UK (25%). Least number of users were from Canada (14,695)."
   ]
  },
  {
   "cell_type": "markdown",
   "metadata": {},
   "source": [
    "## Validating control and treatment group"
   ]
  },
  {
   "cell_type": "code",
   "execution_count": 15,
   "metadata": {},
   "outputs": [
    {
     "data": {
      "text/plain": [
       "treatment    147276\n",
       "control      147202\n",
       "Name: con_treat, dtype: int64"
      ]
     },
     "execution_count": 15,
     "metadata": {},
     "output_type": "execute_result"
    }
   ],
   "source": [
    "data['con_treat'].value_counts()"
   ]
  },
  {
   "cell_type": "code",
   "execution_count": 16,
   "metadata": {},
   "outputs": [
    {
     "data": {
      "text/plain": [
       "old_page    147239\n",
       "new_page    147239\n",
       "Name: page, dtype: int64"
      ]
     },
     "execution_count": 16,
     "metadata": {},
     "output_type": "execute_result"
    }
   ],
   "source": [
    "data['page'].value_counts()"
   ]
  },
  {
   "cell_type": "markdown",
   "metadata": {},
   "source": [
    "From the given information, we can see that the number of values for 'con_treat' and 'page' do not match, even though they are expected to be the same. This indicates that there might be some discrepancy or inconsistency in the dataset.\n",
    "\n",
    "The 'con_treat' column indicates whether a user was in the treatment or control group, while the 'page' column indicates whether the user was shown the old page or new page. Since the control group are the users who are presented with old page whereas treatment group represent the users who are shown the new page, we expect the count of users in each group to be the same.\n",
    "\n",
    "This discrepancy suggests that there may be some errors or inconsistencies in the data, which could affect the results of any analysis or A/B testing conducted on this dataset. Further investigation and cleaning may be necessary to ensure the validity and reliability of the data. Lets dive deeper into this issue."
   ]
  },
  {
   "cell_type": "code",
   "execution_count": 17,
   "metadata": {},
   "outputs": [
    {
     "name": "stdout",
     "output_type": "stream",
     "text": [
      "Total number of discrepencies: 3893\n",
      "The proportion of discrepency1: 0.65 %\n",
      "The proportion of discrepency2: 0.67 %\n"
     ]
    }
   ],
   "source": [
    "discrepancy1=list(data[(data['con_treat']=='control') & (data['page']=='new_page')].index)\n",
    "discrepancy2=list(data[(data['con_treat']=='treatment') & (data['page']=='old_page')].index)\n",
    "\n",
    "print('Total number of discrepencies:', len(discrepancy1)+len(discrepancy2))\n",
    "print('The proportion of discrepency1:', round(len(discrepancy1)*100/data.shape[0],2), '%')\n",
    "print('The proportion of discrepency2:', round(len(discrepancy2)*100/data.shape[0],2), '%')"
   ]
  },
  {
   "cell_type": "markdown",
   "metadata": {},
   "source": [
    "Since the proportion is very small and almost the same, we will drop the affected rows. But lets cross check how it affects our data"
   ]
  },
  {
   "cell_type": "code",
   "execution_count": 18,
   "metadata": {},
   "outputs": [
    {
     "data": {
      "text/plain": [
       "(290585, 6)"
      ]
     },
     "execution_count": 18,
     "metadata": {},
     "output_type": "execute_result"
    }
   ],
   "source": [
    "data_new= data.drop(discrepancy1+discrepancy2)\n",
    "data_new.shape"
   ]
  },
  {
   "cell_type": "code",
   "execution_count": 19,
   "metadata": {},
   "outputs": [
    {
     "data": {
      "image/png": "[encoded data removed]",
      "text/plain": [
       "<Figure size 1440x1440 with 4 Axes>"
      ]
     },
     "metadata": {},
     "output_type": "display_data"
    }
   ],
   "source": [
    "plot_piechart(data_new, ['con_treat', 'page', 'converted', 'country'])"
   ]
  },
  {
   "cell_type": "markdown",
   "metadata": {},
   "source": [
    "Good News!!!Dropping the affected rows did not distrurb the distribution. So we can proceed further"
   ]
  },
  {
   "cell_type": "markdown",
   "metadata": {},
   "source": [
    "## Country-wise conversion rate"
   ]
  },
  {
   "cell_type": "code",
   "execution_count": 20,
   "metadata": {},
   "outputs": [
    {
     "data": {
      "image/png": "[encoded data removed]",
      "text/plain": [
       "<Figure size 432x288 with 1 Axes>"
      ]
     },
     "metadata": {},
     "output_type": "display_data"
    }
   ],
   "source": [
    "country_wise= data_new.groupby('country')['converted'].mean()\n",
    "sns.barplot(country_wise.keys(), country_wise.values)\n",
    "plt.ylabel('Conversion rate')\n",
    "plt.title('Country-wise conversion rate', fontsize=15, fontweight='bold');"
   ]
  },
  {
   "cell_type": "markdown",
   "metadata": {},
   "source": [
    "- The mean conversion rate for Canada (CA) is 0.115318, for the United Kingdom (UK) is 0.120594, and for the United States (US) is 0.119546.\n",
    "- The conversion rate for the UK is slightly higher than the other countries."
   ]
  },
  {
   "cell_type": "markdown",
   "metadata": {},
   "source": [
    "# Experiment Design"
   ]
  },
  {
   "cell_type": "markdown",
   "metadata": {},
   "source": [
    "## Hypothesis"
   ]
  },
  {
   "cell_type": "markdown",
   "metadata": {},
   "source": [
    "Based on the user experience research, if the client update the checkout page design, the user who are paying for products will increase as measured by the conversion rate.\n",
    "\n",
    "- Null Hypothesis: The conversion rate for both control and treatment group is same\n",
    "\n",
    "- Alternate Hypothesis: The conversion rate for both control and treatment group is different"
   ]
  },
  {
   "cell_type": "markdown",
   "metadata": {},
   "source": [
    "## Design Parameters"
   ]
  },
  {
   "cell_type": "markdown",
   "metadata": {},
   "source": [
    "#### Power\n",
    " - It is the probability of detecting an effect of a pre-determined size or higher, if the treatment results in a true difference in metrics. \n",
    " - It is mathematically represented as one minus beta where beta is the type 2 or false negative error rate that occurs when we fail to reject the null hypothesis and mistakenly conclude that the treatment has no meaningful effect when in reality it does.\n",
    " - Power is commonly set at 80% while sizing the test\n",
    "\n",
    "#### Minimum Detectable effect (MDE)\n",
    "- It is also known as practical significance level. \n",
    "- We set it as the size of the effect of a treatment that we consider significant to the business. \n",
    "- In other words, how much do the metrics need to move by for us to make a decision or change our mind about a default action. \n",
    "- Any effect under that level would be considered unimportant.\n",
    "\n",
    "#### Significance level\n",
    "- The significance level alpha which represents the false positive rate or the probability that we mistakenly reject the Null hypothesis and conclude that the change has a real effect when it doesn't. \n",
    "- This is ultimately how we decide if the test result is statistically significant. \n",
    "- The p-value is the probability of obtaining the observed result, or more extreme, under the Null hypothesis. \n",
    "- If this probability is lower than our pre-selected significance level, then we conclude that it is unlikely that the observed difference between the groups would occur if the null hypothesis was true, leading to rejecting it.\n",
    "- The selected significant level for this problem is 0.05 \n",
    "\n"
   ]
  },
  {
   "cell_type": "markdown",
   "metadata": {},
   "source": [
    "## Analysing probability distribution"
   ]
  },
  {
   "cell_type": "code",
   "execution_count": 21,
   "metadata": {},
   "outputs": [],
   "source": [
    "sample_means_control=[]\n",
    "sample_means_treatment=[]\n",
    "\n",
    "for i in range(1000):\n",
    "    sample=data_new.sample(frac=1, replace=True)\n",
    "    mean_control=sample[sample['con_treat']=='control']['converted'].mean()\n",
    "    mean_treatment=sample[sample['con_treat']=='treatment']['converted'].mean()\n",
    "    sample_means_control.append(mean_control)\n",
    "    sample_means_treatment.append(mean_treatment)"
   ]
  },
  {
   "cell_type": "code",
   "execution_count": 22,
   "metadata": {},
   "outputs": [
    {
     "name": "stdout",
     "output_type": "stream",
     "text": [
      "The difference mean: 0.0015538621156579169\n"
     ]
    },
    {
     "data": {
      "image/png": "[encoded data removed]",
      "text/plain": [
       "<Figure size 576x360 with 1 Axes>"
      ]
     },
     "metadata": {},
     "output_type": "display_data"
    }
   ],
   "source": [
    "plt.figure(figsize=(8,5))\n",
    "sns.kdeplot(sample_means_control, label='Control')\n",
    "sns.kdeplot(sample_means_treatment, label='Treatment')\n",
    "plt.axvline(np.mean(sample_means_control), linestyle='--', color='skyblue')\n",
    "plt.axvline(np.mean(sample_means_treatment), linestyle='--', color='orange')\n",
    "plt.legend();\n",
    "print('The difference mean:', np.mean(sample_means_control)-np.mean(sample_means_treatment))"
   ]
  },
  {
   "cell_type": "markdown",
   "metadata": {},
   "source": [
    "- Mean error of treatment group is lesser that control group.\n",
    "- We can see that there is difference in conversion rate in both groups.\n",
    "- However it is important to see if this difference is statistically significant"
   ]
  },
  {
   "cell_type": "markdown",
   "metadata": {},
   "source": [
    "## Sample Ratio Mismatch (SRM)"
   ]
  },
  {
   "cell_type": "markdown",
   "metadata": {},
   "source": [
    "Sample Ratio Mismatch (SRM) refers to a situation where the actual allocation of participants to different experimental groups in a study deviates from the pre-planned allocation. In experimental research, randomization is typically used to allocate participants to different groups to ensure that each group is comparable and that any observed differences between groups can be attributed to the treatment being tested. The pre-planned allocation of participants is based on a target sample size and a desired allocation ratio across different experimental groups.\n",
    "\n",
    "However, in practice, SRM can occur due to various reasons such as unequal dropouts or refusals to participate, data collection errors, or miscommunications between study coordinators. When SRM happens, the actual allocation ratio deviates from the pre-planned ratio, leading to unequal group sizes and potentially impacting the statistical power of the study.\n",
    "\n",
    "One way to assess whether SRM has occurred is by using a Chi-square goodness of fit test. The test compares the observed frequency of participants in each group to the expected frequency based on the pre-planned allocation ratio. If the observed frequencies differ significantly from the expected frequencies, it suggests that SRM has occurred, and the study may need to be adjusted to account for the deviation.\n",
    "\n",
    "In this case, the Chi-square goodness of fit test is being used to determine whether there is a significant difference between the observed and expected frequencies of participants in the control and treatment groups. We will keep the threshold at 0.01"
   ]
  },
  {
   "cell_type": "code",
   "execution_count": 68,
   "metadata": {},
   "outputs": [
    {
     "data": {
      "text/plain": [
       "con_treat\n",
       "control      145274\n",
       "treatment    145310\n",
       "Name: id, dtype: int64"
      ]
     },
     "execution_count": 68,
     "metadata": {},
     "output_type": "execute_result"
    }
   ],
   "source": [
    "# Calculate the unique IDs per variant\n",
    "data_new.groupby('con_treat')['id'].nunique()"
   ]
  },
  {
   "cell_type": "code",
   "execution_count": 74,
   "metadata": {},
   "outputs": [
    {
     "name": "stdout",
     "output_type": "stream",
     "text": [
      "Percentage of users in the Control group: 49.994 %\n",
      "Percentage of users in the Exposed group: 50.00599999999999 %\n"
     ]
    }
   ],
   "source": [
    "# Assign the unqiue counts to each variant\n",
    "control_users=data_new[data_new['con_treat']=='control']['id'].nunique()\n",
    "treatment_users=data_new[data_new['con_treat']=='treatment']['id'].nunique()\n",
    "total_users=control_users+treatment_users\n",
    "# Calculate allocation ratios per variant\n",
    "control_perc = control_users / total_users\n",
    "treatment_perc = treatment_users / total_users\n",
    "print(\"Percentage of users in the Control group:\",100*round(control_perc,5),\"%\")\n",
    "print(\"Percentage of users in the Exposed group:\",100*round(treatment_perc,5),\"%\")"
   ]
  },
  {
   "cell_type": "code",
   "execution_count": 77,
   "metadata": {},
   "outputs": [
    {
     "name": "stdout",
     "output_type": "stream",
     "text": [
      "Sample Ratio Mismatch likely not present\n"
     ]
    }
   ],
   "source": [
    "observed = [control_users, treatment_users]\n",
    "expected=[total_users/2, total_users/2]\n",
    "\n",
    "from scipy.stats import chisquare\n",
    "chi2= chisquare(observed, f_exp=expected)\n",
    "if chi2[1]<0.01:\n",
    "    print('Sample Ratio Mismatch might be present')\n",
    "else:\n",
    "    print('Sample Ratio Mismatch likely not present')\n"
   ]
  },
  {
   "cell_type": "markdown",
   "metadata": {},
   "source": [
    "## Power Analysis"
   ]
  },
  {
   "cell_type": "markdown",
   "metadata": {},
   "source": [
    "### Effect Size and Sample Size"
   ]
  },
  {
   "cell_type": "markdown",
   "metadata": {},
   "source": [
    "In A/B testing, power analysis is an important step in the experimental design process, as it helps to ensure that the test is adequately powered to detect a meaningful difference between the treatment and control groups. One of the key parameters used in power analysis is Cohen's d, which is a standardized effect size that represents the difference between the means of the treatment and control groups, divided by the standard deviation. By selecting an appropriate minimum detectable effect of interest and converting it into Cohen's d, we can estimate the required sample size and statistical power of the test. In this way, power analysis helps to ensure that the A/B test is designed and executed in a rigorous and effective manner.\n",
    "\n",
    "                    cohen's d = (new_mean - mean_control)/ Standard_deviation"
   ]
  },
  {
   "cell_type": "code",
   "execution_count": 38,
   "metadata": {},
   "outputs": [
    {
     "name": "stdout",
     "output_type": "stream",
     "text": [
      "Standard effect_size: 0.07398966332236886\n"
     ]
    }
   ],
   "source": [
    "mean_control= data_new[data_new['con_treat']=='control']['converted'].mean()\n",
    "std_control=data_new[data_new['con_treat']=='control']['converted'].std()\n",
    "\n",
    "#client wants to increase conversion rate by 2%\n",
    "new_mean=mean_control*1.2\n",
    "\n",
    "effect_size_std= (new_mean-mean_control)/std_control\n",
    "print('Standard effect_size:', effect_size_std)"
   ]
  },
  {
   "cell_type": "code",
   "execution_count": 42,
   "metadata": {},
   "outputs": [
    {
     "name": "stdout",
     "output_type": "stream",
     "text": [
      "Control and treatment groups needs 2869.0 samples each\n"
     ]
    }
   ],
   "source": [
    "from statsmodels.stats import power\n",
    "\n",
    "sample_size=power.TTestIndPower().solve_power(effect_size=effect_size_std, power=0.80, alpha=0.05, nobs1=None)\n",
    "print('Control and treatment groups needs {} samples each'.format(np.ceil(sample_size)))"
   ]
  },
  {
   "cell_type": "markdown",
   "metadata": {},
   "source": [
    "This suggests that for increasing conversion rate by 2%, we would need 2869 samples in each group. Since we already have data with more than 290K records at our disposal, it is statistically valid"
   ]
  },
  {
   "cell_type": "code",
   "execution_count": 100,
   "metadata": {},
   "outputs": [
    {
     "data": {
      "text/plain": [
       "Text(0.5, 1.0, 'Conversion rates for Control & Treatment group')"
      ]
     },
     "execution_count": 100,
     "metadata": {},
     "output_type": "execute_result"
    },
    {
     "data": {
      "image/png": "[encoded data removed]",
      "text/plain": [
       "<Figure size 518.4x432 with 1 Axes>"
      ]
     },
     "metadata": {},
     "output_type": "display_data"
    }
   ],
   "source": [
    "# plotting conversion rates for control and treatment groups\n",
    "g = sns.PairGrid(data_new, y_vars=\"converted\",\n",
    "                 x_vars=['con_treat'],\n",
    "                 height=6, aspect=1.2)\n",
    "\n",
    "g.map(sns.pointplot, scale=1.3, errwidth=4, color='c')\n",
    "g.set(ylim=(0.112, 0.1250))\n",
    "sns.despine(fig=g.fig, left=True)\n",
    "plt.title('Conversion rates for Control & Treatment group', fontsize=15, fontweight='bold')"
   ]
  },
  {
   "cell_type": "markdown",
   "metadata": {},
   "source": [
    "From the initial observation, we can already see that the treatment group has slightly lesser conversion rate than control group which insinuates, new page does not attract more users to pay for the product, instead the conversion rate decreases. This supports our alternative hypothesis that conversion rates for both the group are different. However, we would not directly jump to the conclusion at this point. Since the scale of y axis is scaled to the such limits that we can observed the difference. But the difference is actually very less. We will use statistical method to check the difference is significant or not. "
   ]
  },
  {
   "cell_type": "markdown",
   "metadata": {},
   "source": [
    "# The z-Test"
   ]
  },
  {
   "cell_type": "code",
   "execution_count": 102,
   "metadata": {},
   "outputs": [
    {
     "name": "stdout",
     "output_type": "stream",
     "text": [
      "p-value is 0.18988337448195103\n",
      "Control group 95% CI: [0.1187, 0.1221]\n",
      "Treatment group 95% CI: [0.1171, 0.1205]\n",
      "Since the p_value is more than the significance level, we FAIL TO REJECT the null hypothesis\n"
     ]
    }
   ],
   "source": [
    "from statsmodels.stats.proportion import proportions_ztest, proportion_confint\n",
    "\n",
    "n_control= control_users\n",
    "n_treatment= treatment_users\n",
    "\n",
    "# number of user who atleast paid once for the services\n",
    "converted_control= data_new[data_new['con_treat']=='control'].groupby('id')['converted'].max().sum()\n",
    "converted_treatment= data_new[data_new['con_treat']=='treatment'].groupby('id')['converted'].max().sum()\n",
    "\n",
    "converted_abtest=[converted_control, converted_treatment]\n",
    "n_abtest=[n_control, n_treatment]\n",
    "\n",
    "z_stats, p_val= proportions_ztest(converted_abtest, nobs=n_abtest)\n",
    "print(f'p-value is {p_val}')\n",
    "\n",
    "(control_lo95, treatment_lo95),(control_hi95, treatment_hi95)=proportion_confint(converted_abtest, nobs=n_abtest, alpha=0.05)\n",
    "\n",
    "print(f'Control group 95% CI: [{control_lo95:.4f}, {control_hi95:.4f}]')\n",
    "print(f'Treatment group 95% CI: [{treatment_lo95:.4f}, {treatment_hi95:.4f}]')\n",
    "\n",
    "if p_val<0.05:\n",
    "    print('Since the p_value is less than the significance level, we REJECT the null hypothesis')\n",
    "else:\n",
    "    print('Since the p_value is more than the significance level, we FAIL TO REJECT the null hypothesis')"
   ]
  },
  {
   "cell_type": "markdown",
   "metadata": {},
   "source": [
    "The difference in mean conversion rates of control and treatment groups is not statistically significant and we fail to reject the null hypothesis stating that the conversion rates of both groups are the same."
   ]
  },
  {
   "cell_type": "markdown",
   "metadata": {},
   "source": [
    "# Summary"
   ]
  },
  {
   "cell_type": "markdown",
   "metadata": {},
   "source": [
    "Our client has come up with new page for the website. Our goal was to conduct A/B test to compare the performance of the current website landing page (old_page) with a new website landing page (new_page) in terms of conversion rate. In the experiemental design, around 290K users were randomly selected and assigned to two groups, control and treatment. Control group users were presented with old page whereas treatment group users were shown new page.\n",
    "\n",
    "The data appeared neat in terms of missing and duplicated values. However, we have detected discrepency with both groups. Some control group users were presented with new page and some treatment group user were presented with old page. We have removed these records as they did not impact the original distribution\n",
    "\n",
    "THe conversion rate appeared to balanced across different pages and countries.\n",
    "\n",
    "Before applying statistical techniques, we have done some sanity checks using powere analysis with sample size requirement and sample ratio mismatch. Both appeared to fine.\n",
    "\n",
    "Since the data was complying with basic requirement for the A/B testing experiment, we had directly calculated conversion rate from using statistical method. During inital observation, we had observed the difference between conversion rates of control and treatment groups. However, it was minimal. We had to rely on z_test to check whether the difference was significant.\n",
    "\n",
    "Upon conducting z_test with power of 80% and confidence interval of 95%, p_value obtained was 0.19 which was more than our significance level. Thus, we fail to reject the null hypothesis. And hence, We conclude that the new page design conversion rates for both groups are the same. New page does not improve the user conversion rate."
   ]
  }
 ],
 "metadata": {
  "kernelspec": {
   "display_name": "Python 3.9.7 ('base')",
   "language": "python",
   "name": "python3"
  },
  "language_info": {
   "codemirror_mode": {
    "name": "ipython",
    "version": 3
   },
   "file_extension": ".py",
   "mimetype": "text/x-python",
   "name": "python",
   "nbconvert_exporter": "python",
   "pygments_lexer": "ipython3",
   "version": "3.9.7"
  },
  "orig_nbformat": 4,
  "vscode": {
   "interpreter": {
    "hash": "a830059a9c722dc07a2d3b6438b71a1ebbefa5368f89a311b0b30f271271817c"
   }
  }
 },
 "nbformat": 4,
 "nbformat_minor": 2
}
